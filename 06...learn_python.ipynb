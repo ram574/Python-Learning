{
 "cells": [
  {
   "cell_type": "markdown",
   "metadata": {},
   "source": [
    "### Using Classes in python"
   ]
  },
  {
   "cell_type": "code",
   "execution_count": 2,
   "metadata": {},
   "outputs": [
    {
     "name": "stdout",
     "output_type": "stream",
     "text": [
      "Decision Tree\n",
      "K-means Clustering\n",
      "100 % ML algorithms\n"
     ]
    }
   ],
   "source": [
    "### Basic form of class\n",
    "\n",
    "class MachineLearning:   ## our object\n",
    "    ## parameterised constructor\n",
    "    def __init__(self, supervised, unsupervised):## data_science is a method and supervised, unsupervised is a instance variables\n",
    "        self.supervised = supervised\n",
    "        self.unsupervised  = unsupervised \n",
    "\n",
    "    def data_science(self): ## Method\n",
    "        self.a = 50 ## Local variables\n",
    "        self.b = 50\n",
    "        def nested_func(self): # Nested Function\n",
    "            print(self.supervised)\n",
    "            print(self.unsupervised)\n",
    "            print(self.a + self.b,\"%\", \"ML algorithms\")\n",
    "        return nested_func(self)\n",
    "        \n",
    "object = MachineLearning(\"Decision Tree\", \"K-means Clustering\")\n",
    "object.data_science()   "
   ]
  },
  {
   "cell_type": "code",
   "execution_count": 3,
   "metadata": {},
   "outputs": [
    {
     "name": "stdout",
     "output_type": "stream",
     "text": [
      "ram 30 white\n",
      "Tulasi 20 white\n"
     ]
    }
   ],
   "source": [
    "class Person:\n",
    "    def __init__(self,name,age,color):\n",
    "        self.name = name\n",
    "        self.color = color\n",
    "        self.age = age\n",
    "        \n",
    "    def my_func(self):\n",
    "        if self.age > 22:\n",
    "            print(self.name, self.age, self.color)\n",
    "        elif self.age < 22: \n",
    "            print(self.name, self.age, self.color)\n",
    "        else:\n",
    "            print(\"not found\")\n",
    "        \n",
    "    \n",
    "    \n",
    "a = Person('ram',30,'white')\n",
    "b = Person('Tulasi',20,'white')\n",
    "a.my_func()\n",
    "b.my_func()"
   ]
  },
  {
   "cell_type": "markdown",
   "metadata": {},
   "source": [
    "### Class method Vs Static method\n",
    "\n",
    "##### class method is represented as @classmethod and static method is represented as @staticmethod"
   ]
  },
  {
   "cell_type": "code",
   "execution_count": 4,
   "metadata": {},
   "outputs": [
    {
     "name": "stdout",
     "output_type": "stream",
     "text": [
      "30\n",
      "30\n",
      "False\n"
     ]
    }
   ],
   "source": [
    "# Python program to demonstrate\n",
    "# use of class method and static method.\n",
    "from datetime import date\n",
    "\n",
    "class Person:\n",
    "\t## constructor syntax\n",
    "\tdef __init__(self, name, age):\n",
    "\t\tself.name = name\n",
    "\t\tself.age = age\n",
    "\t\n",
    "\t# a class method to create a Person object by birth year.\n",
    "\t@classmethod\n",
    "\tdef fromBirthYear(cls, name, year):\n",
    "\t\treturn cls(name, date.today().year - year)\n",
    "\t\n",
    "\t# a static method to check if a Person is adult or not.\n",
    "\t@staticmethod\n",
    "\tdef isAdult(age):\n",
    "\t\treturn age > 30\n",
    "\n",
    "person1 = Person('ram', 30)\n",
    "person2 = Person.fromBirthYear('tulasi', 1992)\n",
    "\n",
    "print (person1.age)\n",
    "print (person2.age)\n",
    "\n",
    "# print the result\n",
    "print (Person.isAdult(22))\n"
   ]
  },
  {
   "cell_type": "markdown",
   "metadata": {},
   "source": [
    "### Class or Static Variables in Python\n",
    "\n",
    "##### It is very important to know how to create variables and call them into methods"
   ]
  },
  {
   "cell_type": "code",
   "execution_count": 5,
   "metadata": {},
   "outputs": [
    {
     "name": "stdout",
     "output_type": "stream",
     "text": [
      "computer Science engineering\n",
      "computer Science engineering\n",
      "computer Science engineering\n",
      "civil engineering\n",
      "computer Science engineering\n",
      "civil engineering\n",
      "electronics and communication systems\n",
      "civil engineering\n",
      "mechanical engineering \n"
     ]
    }
   ],
   "source": [
    "# Python program to show that the variables with a value\n",
    "# assigned in class declaration, are class variables\n",
    "\n",
    "# Class for Computer Science Student\n",
    "class Student:\n",
    "\tstream = 'computer Science engineering'\t\t\t\t # Class Variable\n",
    "\tdef __init__(self,name,roll):\n",
    "\t\tself.name = name\t\t # Instance Variable\n",
    "\t\tself.roll = roll\t\t # Instance Variable\n",
    "\n",
    "# Objects of Student class\n",
    "a = Student('ram', 1)\n",
    "b = Student('tulasi', 2)\n",
    "\n",
    "print(a.stream)\n",
    "print(b.stream)\n",
    "\n",
    "# Class variables can be accessed using class\n",
    "# name also\n",
    "print(Student.stream) # prints \"cse\"\n",
    "\n",
    "# Now if we change the stream for just a it won't be changed for b\n",
    "a.stream = 'civil engineering'\n",
    "print(a.stream)\n",
    "print(b.stream)\n",
    "\n",
    "Student.stream = 'electronics and communication systems'\n",
    "print(a.stream) # prints 'ece'\n",
    "print(b.stream) # prints 'cse'\n",
    "\n",
    "# To change the stream for all instances of the class we can change it\n",
    "# directly from the class\n",
    "Student.stream = 'mechanical engineering '\n",
    "\n",
    "print(a.stream) # prints 'ece'\n",
    "print(b.stream) # prints 'mech'\n"
   ]
  },
  {
   "cell_type": "markdown",
   "metadata": {},
   "source": [
    "### Constructors in Python"
   ]
  },
  {
   "cell_type": "code",
   "execution_count": 6,
   "metadata": {},
   "outputs": [
    {
     "name": "stdout",
     "output_type": "stream",
     "text": [
      "tulasiram\n"
     ]
    }
   ],
   "source": [
    "## default Constructor\n",
    "class Function:\n",
    "    def __init__(self):\n",
    "        self.first = \"tulasiram\"\n",
    "    \n",
    "    def name(self):\n",
    "        print(self.first)\n",
    "    \n",
    "a = Function()\n",
    "a.name()"
   ]
  },
  {
   "cell_type": "code",
   "execution_count": 7,
   "metadata": {},
   "outputs": [
    {
     "name": "stdout",
     "output_type": "stream",
     "text": [
      "First number = 3000\n",
      "Second number = 5000\n",
      "Addition of two numbers = 8000\n"
     ]
    }
   ],
   "source": [
    "#Parameterised Constructor\n",
    "\n",
    "class Addition:\n",
    "\tfirst = 0\n",
    "\tsecond = 0\n",
    "\tanswer = 0\n",
    "\t\n",
    "\t# parameterized constructor\n",
    "\tdef __init__(self, first, second):\n",
    "\t\tself.first = first\n",
    "\t\tself.second = second\n",
    "\t\n",
    "\tdef display(self):\n",
    "\t\tprint(\"First number = \" + str(self.first))\n",
    "\t\tprint(\"Second number = \" + str(self.second))\n",
    "\t\tprint(\"Addition of two numbers = \" + str(self.answer))\n",
    "\n",
    "\tdef calculate(self):\n",
    "\t\tself.answer = self.first + self.second\n",
    "\n",
    "# creating object of the class\n",
    "# this will invoke parameterized constructor\n",
    "obj = Addition(3000, 5000)\n",
    "\n",
    "# perform Addition\n",
    "obj.calculate()\n",
    "\n",
    "# display result\n",
    "obj.display()\n"
   ]
  },
  {
   "cell_type": "markdown",
   "metadata": {},
   "source": [
    "### Destructors in Python"
   ]
  },
  {
   "cell_type": "code",
   "execution_count": 8,
   "metadata": {},
   "outputs": [
    {
     "name": "stdout",
     "output_type": "stream",
     "text": [
      "Employee created.\n",
      "Destructor called, Employee deleted.\n"
     ]
    }
   ],
   "source": [
    "# Python program to illustrate destructor\n",
    "class Employee:\n",
    "\n",
    "\t# Initializing\n",
    "\tdef __init__(self):\n",
    "\t\tprint('Employee created.')\n",
    "\n",
    "\t# Deleting (Calling destructor)\n",
    "\tdef __del__(self):\n",
    "\t\tprint('Destructor called, Employee deleted.')\n",
    "\n",
    "obj = Employee()\n",
    "del obj\n"
   ]
  },
  {
   "cell_type": "code",
   "execution_count": 9,
   "metadata": {},
   "outputs": [
    {
     "name": "stdout",
     "output_type": "stream",
     "text": [
      "Calling Create_obj() function...\n",
      "Making Object...\n",
      "Employee created\n",
      "function end...\n",
      "Program End...\n"
     ]
    }
   ],
   "source": [
    "class Employee:\n",
    " \n",
    "    # Initializing\n",
    "    def __init__(self):\n",
    "        print('Employee created')\n",
    " \n",
    "    # Calling destructor\n",
    "    def __del__(self):\n",
    "        print(\"Destructor called\")\n",
    " \n",
    "def Create_obj():\n",
    "    print('Making Object...')\n",
    "    obj = Employee()\n",
    "    print('function end...')\n",
    "    return obj\n",
    " \n",
    "print('Calling Create_obj() function...')\n",
    "obj = Create_obj()\n",
    "print('Program End...')"
   ]
  },
  {
   "cell_type": "markdown",
   "metadata": {},
   "source": [
    "### Inheritance in Python\n",
    "\n",
    "#### Inheritance is the capability of one class to derive or inherit the properties from another class"
   ]
  },
  {
   "cell_type": "code",
   "execution_count": 17,
   "metadata": {},
   "outputs": [
    {
     "name": "stdout",
     "output_type": "stream",
     "text": [
      "tulasi False\n",
      "ram True\n"
     ]
    }
   ],
   "source": [
    "# Parent Class\n",
    "class Person():\n",
    "       \n",
    "    # Constructor\n",
    "    def __init__(self, name):\n",
    "        self.name = name\n",
    "   \n",
    "    # To get name\n",
    "    def getName(self):\n",
    "        return self.name\n",
    "   \n",
    "    # To check if this person is an employee\n",
    "    def isEmployee(self):\n",
    "        return False\n",
    "   \n",
    "# Child Class\n",
    "# Inherited or Subclass (Note Person in bracket)\n",
    "class Employee(Person):\n",
    "   \n",
    "    # Here we return true\n",
    "    def isEmployee(self):\n",
    "        return True\n",
    "   \n",
    "# Driver code\n",
    "emp = Person(\"tulasi\")  # An Object of Person\n",
    "print(emp.getName(), emp.isEmployee())\n",
    "   \n",
    "emp = Employee(\"ram\") # An Object of Employee\n",
    "print(emp.getName(), emp.isEmployee())"
   ]
  },
  {
   "cell_type": "markdown",
   "metadata": {},
   "source": [
    "#### Single inheritence"
   ]
  },
  {
   "cell_type": "code",
   "execution_count": 15,
   "metadata": {},
   "outputs": [
    {
     "name": "stdout",
     "output_type": "stream",
     "text": [
      "Tulasi ram\n",
      "886012\n"
     ]
    }
   ],
   "source": [
    "# Interlinking Constructor between parent and child class\n",
    "\n",
    "# parent class\n",
    "class Person():\t\n",
    "\n",
    "\t\t# __init__ is known as the constructor\t\t\n",
    "\t\tdef __init__(self, name, idnumber):\n",
    "\t\t\t\tself.name = name\n",
    "\t\t\t\tself.idnumber = idnumber\n",
    "\t\tdef display(self):\n",
    "\t\t\t\tprint(self.name)\n",
    "\t\t\t\tprint(self.idnumber)\n",
    "\n",
    "# child class\n",
    "class Employee( Person ):\t\t\n",
    "\t\tdef __init__(self, name, idnumber, salary, post):\n",
    "\t\t\t\tself.salary = salary\n",
    "\t\t\t\tself.post = post\n",
    "\n",
    "\t\t\t\t# invoking the __init__ of the parent class\n",
    "\t\t\t\tPerson.__init__(self, name, idnumber)\n",
    "\n",
    "\t\t\t\t\n",
    "# creation of an object variable or an instance\n",
    "a = Employee('Tulasi ram', 886012, 200000, \"Intern\")\t\n",
    "\n",
    "# calling a function of the class Person using its instance\n",
    "a.display()\n"
   ]
  },
  {
   "cell_type": "markdown",
   "metadata": {},
   "source": [
    "#### Multiple inheritance"
   ]
  },
  {
   "cell_type": "code",
   "execution_count": 18,
   "metadata": {},
   "outputs": [
    {
     "name": "stdout",
     "output_type": "stream",
     "text": [
      "Father : RAM\n",
      "Mother : SITA\n"
     ]
    }
   ],
   "source": [
    "# multiple inheritance\n",
    "# Base class1\n",
    "class Mother:\n",
    "\tmothername = \"\"\n",
    "\tdef mother(self):\n",
    "\t\tprint(self.mothername)\n",
    "\n",
    "# Base class2\n",
    "class Father:\n",
    "\tfathername = \"\"\n",
    "\tdef father(self):\n",
    "\t\tprint(self.fathername)\n",
    "\n",
    "# Derived class\n",
    "class Son(Mother, Father):\n",
    "\tdef parents(self):\n",
    "\t\tprint(\"Father :\", self.fathername)\n",
    "\t\tprint(\"Mother :\", self.mothername)\n",
    "\n",
    "# Driver's code\n",
    "s1 = Son()\n",
    "s1.fathername = \"RAM\"\n",
    "s1.mothername = \"SITA\"\n",
    "s1.parents()\n"
   ]
  },
  {
   "cell_type": "code",
   "execution_count": 19,
   "metadata": {},
   "outputs": [
    {
     "name": "stdout",
     "output_type": "stream",
     "text": [
      "Lal mani\n",
      "Grandfather name : Lal mani\n",
      "Father name : Rampal\n",
      "Son name : Prince\n"
     ]
    }
   ],
   "source": [
    "# multilevel inheritance\n",
    "\n",
    "# Base class\n",
    "class Grandfather:\n",
    "\n",
    "\tdef __init__(self, grandfathername):\n",
    "\t\tself.grandfathername = grandfathername\n",
    "\n",
    "# Intermediate class\n",
    "class Father(Grandfather):\n",
    "\tdef __init__(self, fathername, grandfathername):\n",
    "\t\tself.fathername = fathername\n",
    "\n",
    "\t\t# invoking constructor of Grandfather class\n",
    "\t\tGrandfather.__init__(self, grandfathername)\n",
    "\n",
    "# Derived class\n",
    "class Son(Father):\n",
    "\tdef __init__(self,sonname, fathername, grandfathername):\n",
    "\t\tself.sonname = sonname\n",
    "\n",
    "\t\t# invoking constructor of Father class\n",
    "\t\tFather.__init__(self, fathername, grandfathername)\n",
    "\n",
    "\tdef print_name(self):\n",
    "\t\tprint('Grandfather name :', self.grandfathername)\n",
    "\t\tprint(\"Father name :\", self.fathername)\n",
    "\t\tprint(\"Son name :\", self.sonname)\n",
    "\n",
    "# Driver code\n",
    "s1 = Son('Prince', 'Rampal', 'Lal mani')\n",
    "print(s1.grandfathername)\n",
    "s1.print_name()\n"
   ]
  },
  {
   "cell_type": "code",
   "execution_count": null,
   "metadata": {},
   "outputs": [],
   "source": []
  },
  {
   "cell_type": "code",
   "execution_count": null,
   "metadata": {},
   "outputs": [],
   "source": []
  },
  {
   "cell_type": "code",
   "execution_count": null,
   "metadata": {},
   "outputs": [],
   "source": []
  },
  {
   "cell_type": "code",
   "execution_count": null,
   "metadata": {},
   "outputs": [],
   "source": []
  },
  {
   "cell_type": "code",
   "execution_count": null,
   "metadata": {},
   "outputs": [],
   "source": []
  },
  {
   "cell_type": "code",
   "execution_count": null,
   "metadata": {},
   "outputs": [],
   "source": []
  },
  {
   "cell_type": "code",
   "execution_count": null,
   "metadata": {},
   "outputs": [],
   "source": []
  },
  {
   "cell_type": "code",
   "execution_count": null,
   "metadata": {},
   "outputs": [],
   "source": []
  },
  {
   "cell_type": "code",
   "execution_count": null,
   "metadata": {},
   "outputs": [],
   "source": []
  }
 ],
 "metadata": {
  "interpreter": {
   "hash": "b37928656ed68a4e6941d2c2b6aba3a4c9ddc3df0b677b322f4f5b2ebd3f85b9"
  },
  "kernelspec": {
   "display_name": "Python 3 (ipykernel)",
   "language": "python",
   "name": "python3"
  },
  "language_info": {
   "codemirror_mode": {
    "name": "ipython",
    "version": 3
   },
   "file_extension": ".py",
   "mimetype": "text/x-python",
   "name": "python",
   "nbconvert_exporter": "python",
   "pygments_lexer": "ipython3",
   "version": "3.9.7"
  }
 },
 "nbformat": 4,
 "nbformat_minor": 4
}
