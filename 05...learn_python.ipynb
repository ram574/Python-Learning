{
 "cells": [
  {
   "cell_type": "markdown",
   "metadata": {},
   "source": [
    "### Functions"
   ]
  },
  {
   "cell_type": "markdown",
   "metadata": {},
   "source": [
    "#### Function basic syntax"
   ]
  },
  {
   "cell_type": "code",
   "execution_count": 17,
   "metadata": {},
   "outputs": [
    {
     "name": "stdout",
     "output_type": "stream",
     "text": [
      "  Car_Name  Year  Selling_Price  Present_Price  Kms_Driven Fuel_Type  \\\n",
      "0     ritz  2014           3.35           5.59       27000    Petrol   \n",
      "1      sx4  2013           4.75           9.54       43000    Diesel   \n",
      "2     ciaz  2017           7.25           9.85        6900    Petrol   \n",
      "3  wagon r  2011           2.85           4.15        5200    Petrol   \n",
      "4    swift  2014           4.60           6.87       42450    Diesel   \n",
      "\n",
      "  Seller_Type Transmission  Owner  \n",
      "0      Dealer       Manual      0  \n",
      "1      Dealer       Manual      0  \n",
      "2      Dealer       Manual      0  \n",
      "3      Dealer       Manual      0  \n",
      "4      Dealer       Manual      0  \n",
      "The dataset shape is (301, 9)\n",
      "Car_Name         0\n",
      "Year             0\n",
      "Selling_Price    0\n",
      "Present_Price    0\n",
      "Kms_Driven       0\n",
      "Fuel_Type        0\n",
      "Seller_Type      0\n",
      "Transmission     0\n",
      "Owner            0\n",
      "dtype: int64\n"
     ]
    }
   ],
   "source": [
    "import pandas as pd\n",
    "data = pd.read_csv(\"../python learning/car data.csv\")\n",
    "\n",
    "def func1():\n",
    "    print(data.head())\n",
    "    def func2():\n",
    "        print(\"The dataset shape is\",data.shape)\n",
    "        def func3():\n",
    "            print(data.isnull().sum())\n",
    "        func3()\n",
    "    func2()\n",
    "func1()"
   ]
  },
  {
   "cell_type": "code",
   "execution_count": 24,
   "metadata": {},
   "outputs": [
    {
     "name": "stdout",
     "output_type": "stream",
     "text": [
      "colums less than 0.50 percent are 0.0\n"
     ]
    }
   ],
   "source": [
    "def func():\n",
    "        x = data.isnull().sum().mean()\n",
    "        if x > 0.50:\n",
    "            print(\"colums greater than 0.50 percent are\",x)\n",
    "        elif x < 0.50:\n",
    "            print(\"colums less than 0.50 percent are\",x)\n",
    "        else:\n",
    "            print(\"not found\")\n",
    "func()\n"
   ]
  },
  {
   "cell_type": "code",
   "execution_count": 2,
   "metadata": {},
   "outputs": [
    {
     "name": "stdout",
     "output_type": "stream",
     "text": [
      "hello world\n"
     ]
    }
   ],
   "source": [
    "def func():\n",
    "    print('hello world')\n",
    "\n",
    "func()"
   ]
  },
  {
   "cell_type": "markdown",
   "metadata": {},
   "source": [
    "#### Passing arguments to function"
   ]
  },
  {
   "cell_type": "code",
   "execution_count": 3,
   "metadata": {},
   "outputs": [
    {
     "name": "stdout",
     "output_type": "stream",
     "text": [
      "30\n"
     ]
    }
   ],
   "source": [
    "def func(a,b): # a and b are arguments\n",
    "    c = a+b\n",
    "    print(c)\n",
    "\n",
    "func(10,20)"
   ]
  },
  {
   "cell_type": "code",
   "execution_count": 4,
   "metadata": {},
   "outputs": [
    {
     "name": "stdout",
     "output_type": "stream",
     "text": [
      "b is greater\n"
     ]
    }
   ],
   "source": [
    "def func(a=20,b=30):\n",
    "    if b>a:\n",
    "        print(\"b is greater\")\n",
    "    else:\n",
    "        print(\"b is less\")\n",
    "        \n",
    "func()"
   ]
  },
  {
   "cell_type": "markdown",
   "metadata": {},
   "source": [
    "#### Keyword Arguments"
   ]
  },
  {
   "cell_type": "code",
   "execution_count": 5,
   "metadata": {},
   "outputs": [
    {
     "name": "stdout",
     "output_type": "stream",
     "text": [
      "First name is : tulasiram\n",
      "last name is : ponaganti\n"
     ]
    }
   ],
   "source": [
    "def func(firstname, lastname): ## firstname and lastname are keyword arguments\n",
    "    print('First name is :', firstname)\n",
    "    print('last name is :', lastname)\n",
    "\n",
    "func(firstname='tulasiram', lastname='ponaganti')"
   ]
  },
  {
   "cell_type": "markdown",
   "metadata": {},
   "source": [
    "Variable-length arguments\n",
    "In Python, we can pass a variable number of arguments to a function using special symbols. There are two special symbols:\n",
    "\n",
    "*args (Non-Keyword Arguments)\n",
    "**kwargs (Keyword Arguments)"
   ]
  },
  {
   "cell_type": "code",
   "execution_count": 6,
   "metadata": {},
   "outputs": [
    {
     "name": "stdout",
     "output_type": "stream",
     "text": [
      "tulasi\n",
      "ram\n",
      "ponaganti\n"
     ]
    }
   ],
   "source": [
    "def func(*argv):\n",
    "    for arg in argv:\n",
    "        print(arg)\n",
    "''' Here i passed three arguments'''\n",
    "func('tulasi','ram','ponaganti')"
   ]
  },
  {
   "cell_type": "code",
   "execution_count": 7,
   "metadata": {},
   "outputs": [
    {
     "name": "stdout",
     "output_type": "stream",
     "text": [
      "2\n",
      "3\n",
      "4\n"
     ]
    }
   ],
   "source": [
    "def func(*argv):\n",
    "    for arg in argv:\n",
    "        arg+=1\n",
    "        print(arg)\n",
    "''' Here i passed three arguments'''\n",
    "func(1,2,3)"
   ]
  },
  {
   "cell_type": "code",
   "execution_count": 8,
   "metadata": {},
   "outputs": [
    {
     "name": "stdout",
     "output_type": "stream",
     "text": [
      "first == tulasi\n",
      "mid == ram\n",
      "last == ponaganti\n"
     ]
    }
   ],
   "source": [
    "def myFun(**kwargs):\n",
    "    for key, value in kwargs.items():\n",
    "        print(\"%s == %s\" % (key, value))\n",
    " \n",
    " \n",
    "# Driver code\n",
    "myFun(first='tulasi', mid='ram', last='ponaganti')"
   ]
  },
  {
   "cell_type": "markdown",
   "metadata": {},
   "source": [
    "#### using a doc string"
   ]
  },
  {
   "cell_type": "code",
   "execution_count": 9,
   "metadata": {},
   "outputs": [
    {
     "name": "stdout",
     "output_type": "stream",
     "text": [
      "Function to explain doc string\n",
      "first == tulasi\n",
      "mid == ram\n",
      "last == ponaganti\n"
     ]
    }
   ],
   "source": [
    "def myFun(**kwargs):\n",
    "    '''Function to explain doc string'''\n",
    "    for key, value in kwargs.items():\n",
    "        print(\"%s == %s\" % (key, value))\n",
    "print(myFun.__doc__)  ## doc string syntax\n",
    "# Driver code\n",
    "myFun(first='tulasi', mid='ram', last='ponaganti')"
   ]
  },
  {
   "cell_type": "markdown",
   "metadata": {},
   "source": [
    "### using return in a function"
   ]
  },
  {
   "cell_type": "code",
   "execution_count": 10,
   "metadata": {},
   "outputs": [
    {
     "name": "stdout",
     "output_type": "stream",
     "text": [
      "Function passed with arguments and returned sum of arguments\n"
     ]
    },
    {
     "data": {
      "text/plain": [
       "60"
      ]
     },
     "execution_count": 10,
     "metadata": {},
     "output_type": "execute_result"
    }
   ],
   "source": [
    "def sumFunc(a,b,c):\n",
    "    '''Function passed with arguments and returned sum of arguments'''\n",
    "    return a+b+c\n",
    "print(sumFunc.__doc__)\n",
    "sumFunc(10,20,30)"
   ]
  },
  {
   "cell_type": "markdown",
   "metadata": {},
   "source": [
    "When we pass a reference and change the received reference to something else, the connection between the passed and received parameter is broken. For example, consider the below program.\n",
    "\n",
    "intilaise as global and local variable to overcome this \n",
    " "
   ]
  },
  {
   "cell_type": "code",
   "execution_count": 11,
   "metadata": {},
   "outputs": [
    {
     "name": "stdout",
     "output_type": "stream",
     "text": [
      "[4, 5, 6]\n"
     ]
    }
   ],
   "source": [
    "def func(list):\n",
    "    list = [1,2,3]\n",
    "\n",
    "list2 = [4,5,6]\n",
    "func(list2)\n",
    "print(list2)"
   ]
  },
  {
   "cell_type": "markdown",
   "metadata": {},
   "source": [
    "#### Nested Functions"
   ]
  },
  {
   "cell_type": "code",
   "execution_count": 12,
   "metadata": {},
   "outputs": [
    {
     "name": "stdout",
     "output_type": "stream",
     "text": [
      "tulasi ram\n"
     ]
    }
   ],
   "source": [
    "def f1():\n",
    "    s = \"tulasi ram\"\n",
    "    def f2():\n",
    "        print(s)\n",
    "    f2()\n",
    "f1()"
   ]
  },
  {
   "cell_type": "code",
   "execution_count": 13,
   "metadata": {},
   "outputs": [
    {
     "name": "stdout",
     "output_type": "stream",
     "text": [
      "0\n",
      "1\n",
      "4\n",
      "9\n",
      "16\n",
      "25\n",
      "36\n",
      "49\n",
      "64\n",
      "81\n"
     ]
    }
   ],
   "source": [
    "def func1():\n",
    "    i=0\n",
    "    def func2():\n",
    "        for i in range(10):\n",
    "            def func3():\n",
    "                print(i*i)\n",
    "            func3()\n",
    "    func2()\n",
    "func1()"
   ]
  },
  {
   "cell_type": "markdown",
   "metadata": {},
   "source": [
    "We have anonymous functions lambda, filter, reduce, map which are explained in part-04"
   ]
  },
  {
   "cell_type": "markdown",
   "metadata": {},
   "source": [
    "using yield in functions\n",
    "\n",
    "Every normal function will become generator function when we use yield inside function. yied will produce sequence of values.\n",
    "\n",
    "check the below examples"
   ]
  },
  {
   "cell_type": "code",
   "execution_count": 13,
   "metadata": {},
   "outputs": [
    {
     "name": "stdout",
     "output_type": "stream",
     "text": [
      "1\n",
      "4\n",
      "9\n",
      "16\n",
      "25\n",
      "36\n",
      "49\n",
      "64\n",
      "81\n",
      "100\n"
     ]
    }
   ],
   "source": [
    "def nextSquare():\n",
    "    i = 1\n",
    "  \n",
    "    # An Infinite loop to generate squares \n",
    "    while True:\n",
    "        yield i*i                \n",
    "        i += 1  # Next execution resumes \n",
    "                # from this point     \n",
    "  \n",
    "# Driver code to test above generator \n",
    "# function\n",
    "for num in nextSquare():\n",
    "    if num > 100:\n",
    "         break    \n",
    "    print(num)"
   ]
  },
  {
   "cell_type": "code",
   "execution_count": 5,
   "metadata": {},
   "outputs": [
    {
     "name": "stdout",
     "output_type": "stream",
     "text": [
      "The number of '20s' in word is :  20\n",
      "20\n",
      "20\n",
      "20\n",
      "20\n",
      "20\n"
     ]
    }
   ],
   "source": [
    " # Use of yield\n",
    "def printResult(list) : \n",
    "    for i in list: \n",
    "        if i == 20: \n",
    "            yield i \n",
    "  \n",
    "# initializing string \n",
    "list = [10,20,20,30,20,20,20,20]\n",
    "ans = 0\n",
    "print (\"The number of '20s' in word is : \", end=\" \") \n",
    "for j in printResult(list): \n",
    "    ans = ans + 1\n",
    "    print(j)\n"
   ]
  },
  {
   "cell_type": "code",
   "execution_count": 15,
   "metadata": {},
   "outputs": [
    {
     "name": "stdout",
     "output_type": "stream",
     "text": [
      "<__main__.MyFirstClass object at 0x7fe944b9c7f0>\n",
      "10\n",
      "<__main__.MyFirstClass object at 0x7fe944b9cc10>\n",
      "10\n"
     ]
    }
   ],
   "source": [
    "class MyFirstClass():\n",
    "    #Class Attributes\n",
    "    var = 10\n",
    "\n",
    "firstObject = MyFirstClass()\n",
    "print(firstObject)      #Printing object's memory hex\n",
    "print(firstObject.var)  #Accessing Class Attributes\n",
    "\n",
    "secondObject = MyFirstClass()\n",
    "print(secondObject) \n",
    "print(secondObject.var)"
   ]
  },
  {
   "cell_type": "code",
   "execution_count": 16,
   "metadata": {},
   "outputs": [
    {
     "name": "stdout",
     "output_type": "stream",
     "text": [
      "I have a car\n"
     ]
    }
   ],
   "source": [
    "class Vehicle():\n",
    "    #Class Methods/ Attributes\n",
    "\n",
    "    #Here self is passed as an argument because instance is passed as first argument\n",
    "    def type(self):     #Without self it throws an error\n",
    "        print('I have a car')\n",
    "\n",
    "car = Vehicle()\n",
    "car.type()"
   ]
  },
  {
   "cell_type": "code",
   "execution_count": null,
   "metadata": {},
   "outputs": [],
   "source": []
  }
 ],
 "metadata": {
  "interpreter": {
   "hash": "b37928656ed68a4e6941d2c2b6aba3a4c9ddc3df0b677b322f4f5b2ebd3f85b9"
  },
  "kernelspec": {
   "display_name": "Python 3 (ipykernel)",
   "language": "python",
   "name": "python3"
  },
  "language_info": {
   "codemirror_mode": {
    "name": "ipython",
    "version": 3
   },
   "file_extension": ".py",
   "mimetype": "text/x-python",
   "name": "python",
   "nbconvert_exporter": "python",
   "pygments_lexer": "ipython3",
   "version": "3.9.7"
  }
 },
 "nbformat": 4,
 "nbformat_minor": 4
}
