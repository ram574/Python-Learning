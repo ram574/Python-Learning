{
 "cells": [
  {
   "cell_type": "markdown",
   "id": "6c1cc167",
   "metadata": {},
   "source": [
    "### Anonymous Lambda Functions"
   ]
  },
  {
   "cell_type": "markdown",
   "id": "59362f5c",
   "metadata": {},
   "source": [
    "\n",
    "##### map()                 \n",
    "#This takes a lamda function and list as an argument and returns new list     \n",
    "\n",
    "#eg : new_var =  map(lambda x : x *10, new_var)\n",
    "\n",
    "#### reduce()\n",
    "#This takes a lambda function and list as argument and this execute repetative operation over the peer of list         \n",
    "\n",
    "#eg: new_var = reduce(lambda x, y:x*y, var)\n",
    "\n",
    "\n",
    "#### filter()             \n",
    "#This takes a lamda function and list as an argument and you can make expression directly in the function( no need to declare    conditional statements)               \n",
    "\n",
    "#eg : new_var = filter(lamda x: x%2 != 0, new_var)"
   ]
  },
  {
   "cell_type": "code",
   "execution_count": 2,
   "id": "e461aade",
   "metadata": {
    "ExecuteTime": {
     "end_time": "2022-01-21T13:08:04.480354Z",
     "start_time": "2022-01-21T13:08:04.476183Z"
    }
   },
   "outputs": [
    {
     "name": "stdout",
     "output_type": "stream",
     "text": [
      "100\n"
     ]
    }
   ],
   "source": [
    "def func():\n",
    "    x = lambda x: x*5\n",
    "    print(x(20))\n",
    "func()"
   ]
  },
  {
   "cell_type": "code",
   "execution_count": 6,
   "id": "19379be1",
   "metadata": {
    "ExecuteTime": {
     "end_time": "2022-01-21T13:10:12.946499Z",
     "start_time": "2022-01-21T13:10:12.942644Z"
    }
   },
   "outputs": [
    {
     "name": "stdout",
     "output_type": "stream",
     "text": [
      "200\n"
     ]
    }
   ],
   "source": [
    "# this is another way\n",
    "def func():\n",
    "    x = (lambda x, y: x*y)(20,10) ## here i passed two arguments in a single line \n",
    "    print(x)\n",
    "func()"
   ]
  },
  {
   "cell_type": "code",
   "execution_count": 11,
   "id": "939b8d6c",
   "metadata": {
    "ExecuteTime": {
     "end_time": "2022-01-21T13:13:30.520380Z",
     "start_time": "2022-01-21T13:13:30.515491Z"
    }
   },
   "outputs": [
    {
     "name": "stdout",
     "output_type": "stream",
     "text": [
      "120\n"
     ]
    }
   ],
   "source": [
    "## small example to calculate perimeter of rectangle\n",
    "\n",
    "def func():\n",
    "    rec = (lambda l, w : 2 * (l+w)) (20*2,10*2)\n",
    "    print(rec)\n",
    "func()"
   ]
  },
  {
   "cell_type": "code",
   "execution_count": 30,
   "id": "a6799ebc",
   "metadata": {
    "ExecuteTime": {
     "end_time": "2022-01-21T13:22:00.643219Z",
     "start_time": "2022-01-21T13:22:00.639330Z"
    }
   },
   "outputs": [
    {
     "name": "stdout",
     "output_type": "stream",
     "text": [
      "300\n"
     ]
    }
   ],
   "source": [
    "## Other example\n",
    "def func(a,b):\n",
    "    return lambda y : y*a*b\n",
    "\n",
    "result = func(10,10)\n",
    "print(result(3))"
   ]
  },
  {
   "cell_type": "code",
   "execution_count": 32,
   "id": "6a0d9b9b",
   "metadata": {
    "ExecuteTime": {
     "end_time": "2022-01-21T13:24:31.704922Z",
     "start_time": "2022-01-21T13:24:31.700020Z"
    }
   },
   "outputs": [
    {
     "name": "stdout",
     "output_type": "stream",
     "text": [
      "200\n",
      "300\n",
      "400\n",
      "500\n"
     ]
    }
   ],
   "source": [
    "## using a map function multiplying list values 10 times\n",
    "def func():\n",
    "    list = [20, 30, 40, 50]\n",
    "    list = map(lambda x: x*10, list)\n",
    "    for i in list:\n",
    "        print(i)\n",
    "func()"
   ]
  },
  {
   "cell_type": "code",
   "execution_count": 48,
   "id": "0a45ecbc",
   "metadata": {
    "ExecuteTime": {
     "end_time": "2022-01-21T13:37:38.832581Z",
     "start_time": "2022-01-21T13:37:38.827192Z"
    }
   },
   "outputs": [
    {
     "name": "stdout",
     "output_type": "stream",
     "text": [
      "[6, 14, 24, 36, 50]\n"
     ]
    }
   ],
   "source": [
    "## using multiple lists\n",
    "numbers_list_1 = [1, 2, 3, 4, 5]\n",
    "numbers_list_2 = [6, 7, 8, 9, 10]\n",
    "\n",
    "def func():\n",
    "    square_numbers = list(map(lambda x,y: x*y, numbers_list_1, numbers_list_2))\n",
    "\n",
    "    print(square_numbers)\n",
    "func()"
   ]
  },
  {
   "cell_type": "code",
   "execution_count": 50,
   "id": "d8c89f72",
   "metadata": {
    "ExecuteTime": {
     "end_time": "2022-01-21T14:23:59.028685Z",
     "start_time": "2022-01-21T14:23:59.023767Z"
    }
   },
   "outputs": [
    {
     "name": "stdout",
     "output_type": "stream",
     "text": [
      "29\n",
      "39\n",
      "49\n",
      "59\n"
     ]
    }
   ],
   "source": [
    "## Printing odd numbers in list using filter\n",
    "def func():\n",
    "    list = [20,29, 30,39, 40,49, 50,59]\n",
    "    list = filter(lambda x: x%2!=0, list)\n",
    "    for i in list:\n",
    "        print(i)\n",
    "func()"
   ]
  },
  {
   "cell_type": "code",
   "execution_count": 56,
   "id": "9b1b0ba1",
   "metadata": {
    "ExecuteTime": {
     "end_time": "2022-01-21T14:30:18.525993Z",
     "start_time": "2022-01-21T14:30:18.520951Z"
    }
   },
   "outputs": [
    {
     "name": "stdout",
     "output_type": "stream",
     "text": [
      "120\n",
      "5\n"
     ]
    }
   ],
   "source": [
    "## Multiplying all numbers in list using reduce\n",
    "from functools import reduce\n",
    "def func():\n",
    "    list = [1,2,3,4,5]\n",
    "    result = reduce(lambda x,y: x*y, list)\n",
    "    print(result)\n",
    "func()\n",
    "## Printing maximum element from the list\n",
    "def func():\n",
    "    list = [1,2,3,4,5]\n",
    "    result = reduce(lambda a, b: a if a > b else b, list)\n",
    "    print(result)\n",
    "func()"
   ]
  },
  {
   "cell_type": "code",
   "execution_count": null,
   "id": "b659fe9f",
   "metadata": {},
   "outputs": [],
   "source": []
  }
 ],
 "metadata": {
  "hide_input": false,
  "kernelspec": {
   "display_name": "Python 3 (ipykernel)",
   "language": "python",
   "name": "python3"
  },
  "language_info": {
   "codemirror_mode": {
    "name": "ipython",
    "version": 3
   },
   "file_extension": ".py",
   "mimetype": "text/x-python",
   "name": "python",
   "nbconvert_exporter": "python",
   "pygments_lexer": "ipython3",
   "version": "3.9.7"
  },
  "latex_envs": {
   "LaTeX_envs_menu_present": true,
   "autoclose": false,
   "autocomplete": true,
   "bibliofile": "biblio.bib",
   "cite_by": "apalike",
   "current_citInitial": 1,
   "eqLabelWithNumbers": true,
   "eqNumInitial": 1,
   "hotkeys": {
    "equation": "Ctrl-E",
    "itemize": "Ctrl-I"
   },
   "labels_anchors": false,
   "latex_user_defs": false,
   "report_style_numbering": false,
   "user_envs_cfg": false
  },
  "toc": {
   "base_numbering": 1,
   "nav_menu": {},
   "number_sections": true,
   "sideBar": true,
   "skip_h1_title": false,
   "title_cell": "Table of Contents",
   "title_sidebar": "Contents",
   "toc_cell": false,
   "toc_position": {},
   "toc_section_display": true,
   "toc_window_display": false
  }
 },
 "nbformat": 4,
 "nbformat_minor": 5
}
