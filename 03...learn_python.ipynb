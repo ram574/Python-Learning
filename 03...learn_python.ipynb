{
 "cells": [
  {
   "cell_type": "markdown",
   "id": "ba8f908a",
   "metadata": {
    "id": "ba8f908a"
   },
   "source": [
    "# Control Flow"
   ]
  },
  {
   "cell_type": "markdown",
   "id": "430af442",
   "metadata": {
    "id": "430af442"
   },
   "source": [
    "### Python if else"
   ]
  },
  {
   "cell_type": "code",
   "execution_count": 1,
   "id": "71d9d1f5",
   "metadata": {
    "ExecuteTime": {
     "end_time": "2022-01-30T12:01:24.630282Z",
     "start_time": "2022-01-30T12:01:24.625146Z"
    },
    "id": "71d9d1f5",
    "outputId": "6939e0f7-4b6d-41fe-b865-b7f011ab4cd2"
   },
   "outputs": [
    {
     "name": "stdout",
     "output_type": "stream",
     "text": [
      "Function to multiply\n",
      "10\n"
     ]
    }
   ],
   "source": [
    "def multiply(a, b):\n",
    "    \"\"\"Function to multiply\"\"\"\n",
    "    print(a * b)\n",
    "print(multiply.__doc__)\n",
    "multiply(5,2)"
   ]
  },
  {
   "cell_type": "code",
   "execution_count": 2,
   "id": "25da28e3",
   "metadata": {
    "ExecuteTime": {
     "end_time": "2022-01-30T12:01:24.637360Z",
     "start_time": "2022-01-30T12:01:24.633212Z"
    },
    "id": "25da28e3",
    "outputId": "2f26ef45-6fdb-4d99-a29c-a83ee68bed3e"
   },
   "outputs": [
    {
     "name": "stdout",
     "output_type": "stream",
     "text": [
      "Function to check i is greater or smaller\n",
      "i is greater than 5\n"
     ]
    }
   ],
   "source": [
    "def func():\n",
    "    \"\"\"Function to check i is greater or smaller\"\"\"\n",
    "    i=10\n",
    "    if i>5:\n",
    "        print(\"i is greater than 5\")\n",
    "    else:\n",
    "        print(\"i is less than 15\")\n",
    "print(func.__doc__)\n",
    "func()"
   ]
  },
  {
   "cell_type": "markdown",
   "id": "26e320eb",
   "metadata": {
    "id": "26e320eb"
   },
   "source": [
    "### Nested if"
   ]
  },
  {
   "cell_type": "code",
   "execution_count": 3,
   "id": "7e5aac15",
   "metadata": {
    "ExecuteTime": {
     "end_time": "2022-01-30T12:01:24.748065Z",
     "start_time": "2022-01-30T12:01:24.673295Z"
    },
    "id": "7e5aac15",
    "outputId": "70f81eea-3e9a-4427-bd6c-63c78e3781ec"
   },
   "outputs": [
    {
     "ename": "NameError",
     "evalue": "name 'i' is not defined",
     "output_type": "error",
     "traceback": [
      "\u001b[0;31m---------------------------------------------------------------------------\u001b[0m",
      "\u001b[0;31mNameError\u001b[0m                                 Traceback (most recent call last)",
      "\u001b[0;32m/var/folders/t_/ydk7zx_n01b7_lwp_59f7kbc0000gn/T/ipykernel_1662/1682373491.py\u001b[0m in \u001b[0;36m<module>\u001b[0;34m\u001b[0m\n\u001b[0;32m----> 1\u001b[0;31m \u001b[0;32mif\u001b[0m \u001b[0mi\u001b[0m\u001b[0;34m==\u001b[0m\u001b[0;36m20\u001b[0m\u001b[0;34m:\u001b[0m\u001b[0;34m\u001b[0m\u001b[0;34m\u001b[0m\u001b[0m\n\u001b[0m\u001b[1;32m      2\u001b[0m     \u001b[0mprint\u001b[0m\u001b[0;34m(\u001b[0m\u001b[0;34m\"i is 10\"\u001b[0m\u001b[0;34m)\u001b[0m\u001b[0;34m\u001b[0m\u001b[0;34m\u001b[0m\u001b[0m\n\u001b[1;32m      3\u001b[0m \u001b[0;32mif\u001b[0m \u001b[0mi\u001b[0m\u001b[0;34m<\u001b[0m\u001b[0;36m15\u001b[0m\u001b[0;34m:\u001b[0m\u001b[0;34m\u001b[0m\u001b[0;34m\u001b[0m\u001b[0m\n\u001b[1;32m      4\u001b[0m     \u001b[0mprint\u001b[0m\u001b[0;34m(\u001b[0m\u001b[0;34m\"i is less than 15\"\u001b[0m\u001b[0;34m)\u001b[0m\u001b[0;34m\u001b[0m\u001b[0;34m\u001b[0m\u001b[0m\n\u001b[1;32m      5\u001b[0m     \u001b[0;32mif\u001b[0m \u001b[0mi\u001b[0m\u001b[0;34m>\u001b[0m\u001b[0;36m15\u001b[0m\u001b[0;34m:\u001b[0m\u001b[0;34m\u001b[0m\u001b[0;34m\u001b[0m\u001b[0m\n",
      "\u001b[0;31mNameError\u001b[0m: name 'i' is not defined"
     ]
    }
   ],
   "source": [
    "if i==20:\n",
    "    print(\"i is 10\")\n",
    "if i<15:\n",
    "    print(\"i is less than 15\")\n",
    "    if i>15:\n",
    "        print(\"i is greater than 15\")\n",
    "    else:\n",
    "        print(\"Not present\")    "
   ]
  },
  {
   "cell_type": "markdown",
   "id": "f014d6a8",
   "metadata": {
    "id": "f014d6a8"
   },
   "source": [
    "### if-elif-else ladder"
   ]
  },
  {
   "cell_type": "code",
   "execution_count": null,
   "id": "734da357",
   "metadata": {
    "ExecuteTime": {
     "end_time": "2022-01-30T12:01:24.749870Z",
     "start_time": "2022-01-30T12:01:24.749858Z"
    },
    "id": "734da357",
    "outputId": "916283ba-c9d9-4473-d095-ef0db06040f4"
   },
   "outputs": [],
   "source": [
    "def func():\n",
    "    i=10\n",
    "    if i==10:\n",
    "        print(\"i is equal to 10\")\n",
    "    elif i==15:\n",
    "        print(\"Not present\")\n",
    "    elif i==20:\n",
    "        print('i am there')\n",
    "    else:\n",
    "        print(\"none\")\n",
    "func()"
   ]
  },
  {
   "cell_type": "markdown",
   "id": "bd1402f1",
   "metadata": {
    "id": "bd1402f1"
   },
   "source": [
    "### Python for loop "
   ]
  },
  {
   "cell_type": "code",
   "execution_count": 4,
   "id": "b21c1173",
   "metadata": {
    "ExecuteTime": {
     "end_time": "2022-01-30T12:01:31.319808Z",
     "start_time": "2022-01-30T12:01:24.755041Z"
    },
    "id": "b21c1173",
    "outputId": "0ce5b2a4-d275-4daa-ff5e-ab21da13c32e"
   },
   "outputs": [
    {
     "name": "stdout",
     "output_type": "stream",
     "text": [
      "enter number:10\n",
      "0\n",
      "1\n",
      "2\n",
      "3\n",
      "4\n",
      "5\n",
      "6\n",
      "7\n",
      "8\n",
      "9\n"
     ]
    }
   ],
   "source": [
    "def func():\n",
    "    var = input(\"enter number:\")\n",
    "    x = int(var)\n",
    "    for i in range(x):\n",
    "        print(i)\n",
    "func()"
   ]
  },
  {
   "cell_type": "code",
   "execution_count": 5,
   "id": "bfdc661f",
   "metadata": {
    "ExecuteTime": {
     "end_time": "2022-01-30T12:01:31.328876Z",
     "start_time": "2022-01-30T12:01:31.322109Z"
    },
    "id": "bfdc661f",
    "outputId": "52e53e52-a6e4-4595-e3ca-8f8e09b182b1"
   },
   "outputs": [
    {
     "name": "stdout",
     "output_type": "stream",
     "text": [
      "List Iteration\n",
      "tulasi\n",
      "ram\n",
      "ponaganti\n",
      "\n",
      "Tuple Iteration\n",
      "tulasi\n",
      "ram\n",
      "ponaganti\n",
      "\n",
      "String Iteration\n",
      "t\n",
      "u\n",
      "l\n",
      "a\n",
      "s\n",
      "i\n",
      "\n",
      "Dictionary Iteration\n",
      "xyz  123\n",
      "abc  345\n"
     ]
    }
   ],
   "source": [
    "## Lists iteration\n",
    "def func():\n",
    "    print(\"List Iteration\")\n",
    "    l = [\"tulasi\", \"ram\", \"ponaganti\"]\n",
    "    for i in l:\n",
    "        print(i)\n",
    "func()\n",
    "\n",
    "# Iterating over a tuple (immutable)\n",
    "def func():\n",
    "    print(\"\\nTuple Iteration\")\n",
    "    t = (\"tulasi\", \"ram\", \"ponaganti\")\n",
    "    for i in t:\n",
    "        print(i)\n",
    "func()\n",
    " \n",
    "# Iterating over a String\n",
    "def func():\n",
    "    print(\"\\nString Iteration\")\n",
    "    s = \"tulasi\"\n",
    "    for i in s:\n",
    "        print(i)\n",
    "func()\n",
    "\n",
    "# Iterating over dictionary\n",
    "def func():\n",
    "    print(\"\\nDictionary Iteration\")\n",
    "    d = dict()\n",
    "    d['xyz'] = 123\n",
    "    d['abc'] = 345\n",
    "    for i in d:\n",
    "        print(\"% s % d\" % (i, d[i]))\n",
    "func()"
   ]
  },
  {
   "cell_type": "markdown",
   "id": "8747a62f",
   "metadata": {
    "id": "8747a62f"
   },
   "source": [
    "### Python for Loop with Continue Statement"
   ]
  },
  {
   "cell_type": "code",
   "execution_count": 6,
   "id": "a43a3407",
   "metadata": {
    "ExecuteTime": {
     "end_time": "2022-01-30T12:01:31.335994Z",
     "start_time": "2022-01-30T12:01:31.330835Z"
    },
    "id": "a43a3407",
    "outputId": "cad177b5-e235-4a92-eade-bd2ca60e3b4f"
   },
   "outputs": [
    {
     "name": "stdout",
     "output_type": "stream",
     "text": [
      "t\n",
      "u\n",
      "l\n",
      "s\n",
      "i\n",
      "r\n",
      "m\n"
     ]
    }
   ],
   "source": [
    "def func():\n",
    "    for letter in 'tulasiram':\n",
    "        if letter == 'a':\n",
    "            continue\n",
    "        print(letter)\n",
    "func()"
   ]
  },
  {
   "cell_type": "markdown",
   "id": "69681be0",
   "metadata": {
    "id": "69681be0"
   },
   "source": [
    "### Python For Loop with Break Statement"
   ]
  },
  {
   "cell_type": "code",
   "execution_count": 7,
   "id": "f531324b",
   "metadata": {
    "ExecuteTime": {
     "end_time": "2022-01-30T12:01:31.347249Z",
     "start_time": "2022-01-30T12:01:31.341485Z"
    },
    "id": "f531324b",
    "outputId": "c7ee48ab-89e9-4458-8a1d-61a287723541"
   },
   "outputs": [
    {
     "name": "stdout",
     "output_type": "stream",
     "text": [
      "Current Letter : t\n",
      "Current Letter : u\n",
      "Current Letter : l\n"
     ]
    }
   ],
   "source": [
    "def func():\n",
    "    for letter in 'tulasiram':\n",
    "        if letter == 'a':\n",
    "            break\n",
    "        print('Current Letter :', letter)\n",
    "func()"
   ]
  },
  {
   "cell_type": "markdown",
   "id": "25decc3c",
   "metadata": {
    "id": "25decc3c"
   },
   "source": [
    "### Python For Loop with Pass Statement"
   ]
  },
  {
   "cell_type": "code",
   "execution_count": 8,
   "id": "abb041ca",
   "metadata": {
    "ExecuteTime": {
     "end_time": "2022-01-30T12:01:31.354759Z",
     "start_time": "2022-01-30T12:01:31.349973Z"
    },
    "id": "abb041ca",
    "outputId": "2adb1889-0eba-4966-a1b4-16eb3e963abf"
   },
   "outputs": [
    {
     "name": "stdout",
     "output_type": "stream",
     "text": [
      "Last Letter : i\n"
     ]
    }
   ],
   "source": [
    "list = ['tulasi','ram','ponaganti']\n",
    "\n",
    "def func():\n",
    "  #An empty loop\n",
    "    for list in 'ponaganti':\n",
    "         pass\n",
    "    print('Last Letter :', list)\n",
    "func()"
   ]
  },
  {
   "cell_type": "markdown",
   "id": "e9f921e1",
   "metadata": {
    "id": "e9f921e1"
   },
   "source": [
    "### Python range"
   ]
  },
  {
   "cell_type": "code",
   "execution_count": 9,
   "id": "916762ae",
   "metadata": {
    "ExecuteTime": {
     "end_time": "2022-01-30T12:01:31.362722Z",
     "start_time": "2022-01-30T12:01:31.357640Z"
    },
    "id": "916762ae",
    "outputId": "f1ab8f79-e306-4342-e8f8-f87c63c56f0b"
   },
   "outputs": [
    {
     "name": "stdout",
     "output_type": "stream",
     "text": [
      "10\n"
     ]
    }
   ],
   "source": [
    "def func():\n",
    "    sum=0\n",
    "    for i in range(1,5):\n",
    "        sum = sum + i\n",
    "    print(sum)\n",
    "\n",
    "func()"
   ]
  },
  {
   "cell_type": "code",
   "execution_count": 10,
   "id": "ab220118",
   "metadata": {
    "ExecuteTime": {
     "end_time": "2022-01-30T12:01:31.368630Z",
     "start_time": "2022-01-30T12:01:31.365003Z"
    },
    "id": "ab220118",
    "outputId": "ccb33097-5578-4855-8737-b6a4cf1bd69e"
   },
   "outputs": [
    {
     "name": "stdout",
     "output_type": "stream",
     "text": [
      "5\n",
      "6\n",
      "8\n",
      "11\n",
      "15\n"
     ]
    }
   ],
   "source": [
    "def func():\n",
    "    i=5\n",
    "    for x in range(i):\n",
    "        i = i+x\n",
    "        print(i)\n",
    "func()"
   ]
  },
  {
   "cell_type": "markdown",
   "id": "10fe0c2e",
   "metadata": {
    "id": "10fe0c2e"
   },
   "source": [
    "### Python for loop with else"
   ]
  },
  {
   "cell_type": "code",
   "execution_count": 11,
   "id": "c99870c3",
   "metadata": {
    "ExecuteTime": {
     "end_time": "2022-01-30T12:01:31.376509Z",
     "start_time": "2022-01-30T12:01:31.371353Z"
    },
    "id": "c99870c3",
    "outputId": "b6bd727e-ca78-4c99-e20e-29ed6f2271e8"
   },
   "outputs": [
    {
     "name": "stdout",
     "output_type": "stream",
     "text": [
      "1\n",
      "2\n",
      "3\n",
      "No Break\n",
      "\n",
      "1\n"
     ]
    }
   ],
   "source": [
    "for i in range(1, 4):\n",
    "    print(i)\n",
    "else:  # Executed because no break in for\n",
    "    print(\"No Break\\n\")\n",
    "for i in range(1, 4):\n",
    "    print(i)\n",
    "    break\n",
    "else:  # Not executed as there is a break\n",
    "    print(\"No Break\")"
   ]
  },
  {
   "cell_type": "code",
   "execution_count": 12,
   "id": "250ebaf9",
   "metadata": {
    "ExecuteTime": {
     "end_time": "2022-01-30T12:02:08.124126Z",
     "start_time": "2022-01-30T12:01:31.378372Z"
    },
    "id": "250ebaf9",
    "outputId": "ab5a6930-b77c-4859-991a-39fa77dc88d3"
   },
   "outputs": [
    {
     "name": "stdout",
     "output_type": "stream",
     "text": [
      "enter number:10\n",
      "print, skip, or exit20\n",
      "print, skip, or exit30\n",
      "print, skip, or exit40\n",
      "print, skip, or exit50\n",
      "print, skip, or exit60\n",
      "print, skip, or exit70\n",
      "print, skip, or exit80\n",
      "print, skip, or exit90\n",
      "print, skip, or exit20\n",
      "print, skip, or exit40\n",
      "Good bye....!\n"
     ]
    }
   ],
   "source": [
    "### Using all for loop statements in small program\n",
    "def func():\n",
    "    var = input(\"enter number:\")\n",
    "    x = int(var)\n",
    "    for i in range(x):\n",
    "        option = input(\"print, skip, or exit\")\n",
    "        if option==\"print\":\n",
    "            print(i)\n",
    "        elif option=='skip':\n",
    "            continue\n",
    "        elif option=='exit':\n",
    "            break\n",
    "    print(\"Good bye....!\")\n",
    "\n",
    "func()"
   ]
  },
  {
   "cell_type": "code",
   "execution_count": 13,
   "id": "7080e30e",
   "metadata": {
    "ExecuteTime": {
     "end_time": "2022-01-30T12:03:04.007640Z",
     "start_time": "2022-01-30T12:02:08.129032Z"
    },
    "id": "7080e30e",
    "outputId": "00caf747-499b-4d8c-effa-1e07d3a4a34f"
   },
   "outputs": [
    {
     "name": "stdout",
     "output_type": "stream",
     "text": [
      "How much the product cost ?10\n",
      "How much the product cost ?20\n",
      "How much the product cost ?30\n",
      "How much the product cost ?40\n",
      "How much the product cost ?50\n",
      "[10.0, 20.0, 30.0, 40.0, 50.0]\n",
      "Total price :  150.0\n",
      "High cost of product : 50.0\n",
      "average price of products 30.0\n"
     ]
    }
   ],
   "source": [
    "### Working with lists\n",
    "def func():\n",
    "    product_prices = []\n",
    "    for i in range(5):\n",
    "        product = input(\"How much the product cost ?\")\n",
    "        product = float(product)\n",
    "        product_prices.append(product)\n",
    "    print(product_prices)\n",
    "    print(\"Total price : \" , sum(product_prices))\n",
    "    print(\"High cost of product :\" , max(product_prices))\n",
    "    print(\"average price of products\", sum(product_prices)/len(product_prices))\n",
    "func()"
   ]
  },
  {
   "cell_type": "code",
   "execution_count": 14,
   "id": "cdf2fd5b",
   "metadata": {
    "ExecuteTime": {
     "end_time": "2022-01-30T12:03:04.035793Z",
     "start_time": "2022-01-30T12:03:04.010297Z"
    },
    "id": "cdf2fd5b",
    "outputId": "bd557277-1b0b-4f1c-bbe3-1dd84283c873"
   },
   "outputs": [
    {
     "name": "stdout",
     "output_type": "stream",
     "text": [
      "1 * 1 = 1\n",
      "1 * 2 = 2\n",
      "1 * 3 = 3\n",
      "1 * 4 = 4\n",
      "1 * 5 = 5\n",
      "1 * 6 = 6\n",
      "1 * 7 = 7\n",
      "1 * 8 = 8\n",
      "1 * 9 = 9\n",
      "1 * 10 = 10\n",
      "1 * 11 = 11\n",
      "1 * 12 = 12\n",
      "2 * 1 = 2\n",
      "2 * 2 = 4\n",
      "2 * 3 = 6\n",
      "2 * 4 = 8\n",
      "2 * 5 = 10\n",
      "2 * 6 = 12\n",
      "2 * 7 = 14\n",
      "2 * 8 = 16\n",
      "2 * 9 = 18\n",
      "2 * 10 = 20\n",
      "2 * 11 = 22\n",
      "2 * 12 = 24\n",
      "3 * 1 = 3\n",
      "3 * 2 = 6\n",
      "3 * 3 = 9\n",
      "3 * 4 = 12\n",
      "3 * 5 = 15\n",
      "3 * 6 = 18\n",
      "3 * 7 = 21\n",
      "3 * 8 = 24\n",
      "3 * 9 = 27\n",
      "3 * 10 = 30\n",
      "3 * 11 = 33\n",
      "3 * 12 = 36\n",
      "4 * 1 = 4\n",
      "4 * 2 = 8\n",
      "4 * 3 = 12\n",
      "4 * 4 = 16\n",
      "4 * 5 = 20\n",
      "4 * 6 = 24\n",
      "4 * 7 = 28\n",
      "4 * 8 = 32\n",
      "4 * 9 = 36\n",
      "4 * 10 = 40\n",
      "4 * 11 = 44\n",
      "4 * 12 = 48\n",
      "5 * 1 = 5\n",
      "5 * 2 = 10\n",
      "5 * 3 = 15\n",
      "5 * 4 = 20\n",
      "5 * 5 = 25\n",
      "5 * 6 = 30\n",
      "5 * 7 = 35\n",
      "5 * 8 = 40\n",
      "5 * 9 = 45\n",
      "5 * 10 = 50\n",
      "5 * 11 = 55\n",
      "5 * 12 = 60\n",
      "6 * 1 = 6\n",
      "6 * 2 = 12\n",
      "6 * 3 = 18\n",
      "6 * 4 = 24\n",
      "6 * 5 = 30\n",
      "6 * 6 = 36\n",
      "6 * 7 = 42\n",
      "6 * 8 = 48\n",
      "6 * 9 = 54\n",
      "6 * 10 = 60\n",
      "6 * 11 = 66\n",
      "6 * 12 = 72\n",
      "7 * 1 = 7\n",
      "7 * 2 = 14\n",
      "7 * 3 = 21\n",
      "7 * 4 = 28\n",
      "7 * 5 = 35\n",
      "7 * 6 = 42\n",
      "7 * 7 = 49\n",
      "7 * 8 = 56\n",
      "7 * 9 = 63\n",
      "7 * 10 = 70\n",
      "7 * 11 = 77\n",
      "7 * 12 = 84\n",
      "8 * 1 = 8\n",
      "8 * 2 = 16\n",
      "8 * 3 = 24\n",
      "8 * 4 = 32\n",
      "8 * 5 = 40\n",
      "8 * 6 = 48\n",
      "8 * 7 = 56\n",
      "8 * 8 = 64\n",
      "8 * 9 = 72\n",
      "8 * 10 = 80\n",
      "8 * 11 = 88\n",
      "8 * 12 = 96\n",
      "9 * 1 = 9\n",
      "9 * 2 = 18\n",
      "9 * 3 = 27\n",
      "9 * 4 = 36\n",
      "9 * 5 = 45\n",
      "9 * 6 = 54\n",
      "9 * 7 = 63\n",
      "9 * 8 = 72\n",
      "9 * 9 = 81\n",
      "9 * 10 = 90\n",
      "9 * 11 = 99\n",
      "9 * 12 = 108\n",
      "10 * 1 = 10\n",
      "10 * 2 = 20\n",
      "10 * 3 = 30\n",
      "10 * 4 = 40\n",
      "10 * 5 = 50\n",
      "10 * 6 = 60\n",
      "10 * 7 = 70\n",
      "10 * 8 = 80\n",
      "10 * 9 = 90\n",
      "10 * 10 = 100\n",
      "10 * 11 = 110\n",
      "10 * 12 = 120\n",
      "11 * 1 = 11\n",
      "11 * 2 = 22\n",
      "11 * 3 = 33\n",
      "11 * 4 = 44\n",
      "11 * 5 = 55\n",
      "11 * 6 = 66\n",
      "11 * 7 = 77\n",
      "11 * 8 = 88\n",
      "11 * 9 = 99\n",
      "11 * 10 = 110\n",
      "11 * 11 = 121\n",
      "11 * 12 = 132\n",
      "12 * 1 = 12\n",
      "12 * 2 = 24\n",
      "12 * 3 = 36\n",
      "12 * 4 = 48\n",
      "12 * 5 = 60\n",
      "12 * 6 = 72\n",
      "12 * 7 = 84\n",
      "12 * 8 = 96\n",
      "12 * 9 = 108\n",
      "12 * 10 = 120\n",
      "12 * 11 = 132\n",
      "12 * 12 = 144\n"
     ]
    }
   ],
   "source": [
    "### Nested for loop\n",
    "### one to Twelve time tables using for loop\n",
    "def func():\n",
    "    for num1 in range(1,13):\n",
    "        for num2 in range(1,13):\n",
    "            print(num1, \"*\", num2, \"=\", num1*num2)\n",
    "func()"
   ]
  },
  {
   "cell_type": "markdown",
   "id": "75cc00b0",
   "metadata": {
    "id": "75cc00b0"
   },
   "source": [
    "### Python while loop"
   ]
  },
  {
   "cell_type": "code",
   "execution_count": 6,
   "id": "7895aa79",
   "metadata": {
    "ExecuteTime": {
     "end_time": "2022-01-30T12:03:04.046676Z",
     "start_time": "2022-01-30T12:03:04.037808Z"
    },
    "id": "7895aa79",
    "outputId": "132249c6-317a-485f-8ea6-f390b911174e"
   },
   "outputs": [
    {
     "name": "stdout",
     "output_type": "stream",
     "text": [
      "first one\n",
      "Tulasi Ram\n",
      "Tulasi Ram\n",
      "Tulasi Ram\n",
      "Tulasi Ram\n",
      "Tulasi Ram\n",
      "Second one\n",
      "Tulasi Ram\n",
      "Tulasi Ram\n",
      "Tulasi Ram\n",
      "Tulasi Ram\n",
      "Tulasi Ram\n"
     ]
    }
   ],
   "source": [
    "## Single line statement\n",
    "\n",
    "def func():\n",
    "    '''first one'''\n",
    "    count = 0\n",
    "    while (count < 5): count = count + 1; print(\"Tulasi Ram\")\n",
    "print(func.__doc__)\n",
    "func()\n",
    "\n",
    "### or\n",
    "\n",
    "def func():\n",
    "    '''Second one'''\n",
    "    count = 0\n",
    "    while (count < 5): \n",
    "        count = count + 1 \n",
    "        print(\"Tulasi Ram\")\n",
    "print(func.__doc__)\n",
    "func()"
   ]
  },
  {
   "cell_type": "code",
   "execution_count": 16,
   "id": "9debe977",
   "metadata": {
    "ExecuteTime": {
     "end_time": "2022-01-30T12:03:04.057975Z",
     "start_time": "2022-01-30T12:03:04.051370Z"
    },
    "id": "9debe977",
    "outputId": "f20d0ab3-c2eb-4ed7-962b-988e2233a668"
   },
   "outputs": [
    {
     "name": "stdout",
     "output_type": "stream",
     "text": [
      "ponaganti\n",
      "tulasi\n",
      "ram\n"
     ]
    }
   ],
   "source": [
    "def func():\n",
    "    list = [\"ram\",\"tulasi\",\"ponaganti\"]\n",
    "    while list:\n",
    "        print(list.pop())\n",
    "func()"
   ]
  },
  {
   "cell_type": "code",
   "execution_count": 20,
   "id": "79d46cde",
   "metadata": {
    "ExecuteTime": {
     "end_time": "2022-01-30T12:03:19.335548Z",
     "start_time": "2022-01-30T12:03:19.330943Z"
    },
    "colab": {
     "base_uri": "https://localhost:8080/",
     "height": 131
    },
    "executionInfo": {
     "elapsed": 710,
     "status": "error",
     "timestamp": 1643045155396,
     "user": {
      "displayName": "Tulasi Ram Ponaganti",
      "photoUrl": "https://lh3.googleusercontent.com/a-/AOh14Ggozy4i1-oXSyuqqUqTkYxwMMZX4lbxGLjhuW-A=s64",
      "userId": "10767285108937589890"
     },
     "user_tz": -60
    },
    "id": "79d46cde",
    "outputId": "a46f7177-6518-4c36-8ce0-55dce0122e1a"
   },
   "outputs": [
    {
     "data": {
      "text/plain": [
       "1"
      ]
     },
     "execution_count": 20,
     "metadata": {},
     "output_type": "execute_result"
    }
   ],
   "source": [
    "def func():\n",
    "    i=0\n",
    "    for i in range(10):\n",
    "        i+=1\n",
    "        return i\n",
    "func()"
   ]
  },
  {
   "cell_type": "code",
   "execution_count": 29,
   "id": "33e1e565",
   "metadata": {},
   "outputs": [
    {
     "name": "stdout",
     "output_type": "stream",
     "text": [
      "Current word : ponaganti\n"
     ]
    }
   ],
   "source": [
    "def func():\n",
    "    i = 0\n",
    "    a = ['tulasi','ram','ponaganti']\n",
    "    while i < len(a):\n",
    "        if a[i] == 'tulasi' or a[i] == 'ram':\n",
    "            i += 1\n",
    "            continue\n",
    "        print('Current word :', a[i])\n",
    "        i+=1\n",
    "func()"
   ]
  },
  {
   "cell_type": "code",
   "execution_count": 32,
   "id": "fc6f0ac0",
   "metadata": {},
   "outputs": [
    {
     "name": "stdout",
     "output_type": "stream",
     "text": [
      "Current word : tulasi\n",
      "Current word : ram\n"
     ]
    }
   ],
   "source": [
    "def func():\n",
    "    i = 0\n",
    "    a = ['tulasi','ram','ponaganti']\n",
    "    while i < len(a):\n",
    "        if a[i] == 'ponaganti':\n",
    "            i += 1\n",
    "            break\n",
    "        print('Current word :', a[i])\n",
    "        i+=1\n",
    "func()"
   ]
  },
  {
   "cell_type": "code",
   "execution_count": 41,
   "id": "c76b9cb3",
   "metadata": {},
   "outputs": [
    {
     "name": "stdout",
     "output_type": "stream",
     "text": [
      "Current word : ram\n",
      "Current word : ponaganti\n"
     ]
    }
   ],
   "source": [
    "def func():\n",
    "    i = 0\n",
    "    a = ['tulasi','ram','ponaganti']\n",
    "    while i < len(a):\n",
    "        if a[i] == 'tulasi':\n",
    "            i += 1\n",
    "            pass\n",
    "        print('Current word :', a[i])\n",
    "        i+=1\n",
    "func()"
   ]
  },
  {
   "cell_type": "code",
   "execution_count": 47,
   "id": "0dac2a0c",
   "metadata": {},
   "outputs": [
    {
     "name": "stdout",
     "output_type": "stream",
     "text": [
      "1\n",
      "2\n",
      "3\n",
      "4\n",
      "5\n",
      "6\n",
      "7\n",
      "8\n",
      "9\n",
      "10\n",
      "no break\n"
     ]
    }
   ],
   "source": [
    "def whileElseFunc():\n",
    "    i=0\n",
    "    while i<10:\n",
    "        i+=1\n",
    "        print(i)\n",
    "    else:\n",
    "        print('no break')\n",
    "\n",
    "whileElseFunc()\n"
   ]
  },
  {
   "cell_type": "markdown",
   "id": "947af8a9",
   "metadata": {},
   "source": [
    "### using break in loops"
   ]
  },
  {
   "cell_type": "code",
   "execution_count": 49,
   "id": "d1b728a8",
   "metadata": {},
   "outputs": [
    {
     "name": "stdout",
     "output_type": "stream",
     "text": [
      "1\n"
     ]
    }
   ],
   "source": [
    "def func():\n",
    "    i=0\n",
    "    for i in range(10):\n",
    "        i+=1\n",
    "        print(i)\n",
    "        break\n",
    "    else:\n",
    "        print('no break')\n",
    "func() "
   ]
  },
  {
   "cell_type": "markdown",
   "id": "f92bb666",
   "metadata": {},
   "source": [
    "### using continue in loops"
   ]
  },
  {
   "cell_type": "code",
   "execution_count": 54,
   "id": "92ce2747",
   "metadata": {},
   "outputs": [
    {
     "name": "stdout",
     "output_type": "stream",
     "text": [
      "1\n",
      "2\n",
      "3\n",
      "4\n",
      "5\n",
      "6\n",
      "7\n",
      "8\n",
      "9\n",
      "10\n",
      "1\n"
     ]
    }
   ],
   "source": [
    "def func():\n",
    "    i=0\n",
    "    for i in range(10):\n",
    "        i+=1\n",
    "        print(i)\n",
    "        continue\n",
    "    else:\n",
    "        for i in range(5):\n",
    "            i+=1\n",
    "            print(i)\n",
    "            break\n",
    "        \n",
    "func()"
   ]
  },
  {
   "cell_type": "code",
   "execution_count": 64,
   "id": "fa353cd8",
   "metadata": {},
   "outputs": [
    {
     "name": "stdout",
     "output_type": "stream",
     "text": [
      "1\n",
      "2\n",
      "3\n",
      "4\n",
      "5\n",
      "6\n",
      "7\n",
      "8\n",
      "9\n",
      "10\n",
      "1\n",
      "2\n",
      "3\n",
      "4\n",
      "5\n"
     ]
    }
   ],
   "source": [
    "def func():\n",
    "    i=0\n",
    "    for i in range(10):\n",
    "        i+=1\n",
    "        print(i)\n",
    "        pass\n",
    "    else:\n",
    "        for i in range(5):\n",
    "            i+=1\n",
    "            print(i)        \n",
    "func()"
   ]
  },
  {
   "cell_type": "markdown",
   "id": "b2ab8fa4",
   "metadata": {},
   "source": [
    "#### Looping techniques using enumerate()"
   ]
  },
  {
   "cell_type": "code",
   "execution_count": 72,
   "id": "3d3b912e",
   "metadata": {},
   "outputs": [
    {
     "name": "stdout",
     "output_type": "stream",
     "text": [
      "(0, 'tulasi')\n",
      "(1, 'ram')\n",
      "(2, 'ponaganti')\n",
      "tulasi\n",
      "ram\n",
      "ponaganti\n"
     ]
    }
   ],
   "source": [
    "def enumearteFunc():\n",
    "    list =['tulasi','ram','ponaganti']\n",
    "    for key in enumerate(list):\n",
    "        print(key)\n",
    "enumearteFunc()\n",
    "\n",
    "def enumearteFunc():\n",
    "    list =['tulasi','ram','ponaganti']\n",
    "    for key, value in enumerate(list):\n",
    "        print(value)\n",
    "enumearteFunc()"
   ]
  },
  {
   "cell_type": "code",
   "execution_count": 71,
   "id": "3d6a1737",
   "metadata": {},
   "outputs": [
    {
     "name": "stdout",
     "output_type": "stream",
     "text": [
      "What is your name?  I am ram.\n",
      "What is your firstname?  I am tulasi.\n",
      "What is your lastname?  I am ponaganti.\n"
     ]
    }
   ],
   "source": [
    "def zipFunc():\n",
    "    list1 = ['name', 'firstname', 'lastname']\n",
    "    list2 = ['ram', 'tulasi', 'ponaganti']\n",
    "# using zip() to combine two containers\n",
    "# and print values\n",
    "    for list1, list2 in zip(list1, list2):\n",
    "        print('What is your {0}?  I am {1}.'.format(list1, list2))\n",
    "zipFunc()"
   ]
  },
  {
   "cell_type": "markdown",
   "id": "7ed22f5e",
   "metadata": {},
   "source": [
    "\"\"\" Using iteritem(): iteritems() is used to loop through the \n",
    "   dictionary printing the dictionary key-value pair sequentially \n",
    "   which is used before Python 3 version\n",
    "   \n",
    "   Using items(): items() performs the similar task on dictionary as   \n",
    "   iteritems() but have certain disadvantages when compared with iteritems() \"\"\""
   ]
  },
  {
   "cell_type": "code",
   "execution_count": 85,
   "id": "513c7ca3",
   "metadata": {},
   "outputs": [
    {
     "name": "stdout",
     "output_type": "stream",
     "text": [
      "The key value pair using items is : \n",
      "name tulasi\n",
      "firstname ram\n"
     ]
    }
   ],
   "source": [
    "def itemFunc():\n",
    "    name = {\"name\": \"tulasi\", \"firstname\": \"ram\"}\n",
    "    print(\"The key value pair using items is : \")\n",
    "    for key, value in name.items():\n",
    "        print(key, value)\n",
    "itemFunc()"
   ]
  },
  {
   "cell_type": "markdown",
   "id": "59c2671d",
   "metadata": {},
   "source": [
    "sorting the list items using loop"
   ]
  },
  {
   "cell_type": "code",
   "execution_count": 100,
   "id": "003ae89b",
   "metadata": {},
   "outputs": [
    {
     "name": "stdout",
     "output_type": "stream",
     "text": [
      "['a', 'm', 'r']\n",
      "['a', 'i', 'l', 's', 't', 'u']\n",
      "['a', 'a', 'g', 'i', 'n', 'n', 'o', 'p', 't']\n",
      "ponaganti tulasi ram "
     ]
    }
   ],
   "source": [
    "def sortedFunc():\n",
    "    list = ['ram','tulasi','ponaganti']\n",
    "    for i in list:\n",
    "        print(sorted(i))\n",
    "        continue\n",
    "    for i in reversed(list):\n",
    "        print(i, end=\" \")\n",
    "sortedFunc()"
   ]
  }
 ],
 "metadata": {
  "colab": {
   "name": "03...learn_python.ipynb",
   "provenance": []
  },
  "hide_input": false,
  "kernelspec": {
   "display_name": "Python 3 (ipykernel)",
   "language": "python",
   "name": "python3"
  },
  "language_info": {
   "codemirror_mode": {
    "name": "ipython",
    "version": 3
   },
   "file_extension": ".py",
   "mimetype": "text/x-python",
   "name": "python",
   "nbconvert_exporter": "python",
   "pygments_lexer": "ipython3",
   "version": "3.9.7"
  },
  "latex_envs": {
   "LaTeX_envs_menu_present": true,
   "autoclose": false,
   "autocomplete": true,
   "bibliofile": "biblio.bib",
   "cite_by": "apalike",
   "current_citInitial": 1,
   "eqLabelWithNumbers": true,
   "eqNumInitial": 1,
   "hotkeys": {
    "equation": "Ctrl-E",
    "itemize": "Ctrl-I"
   },
   "labels_anchors": false,
   "latex_user_defs": false,
   "report_style_numbering": false,
   "user_envs_cfg": false
  },
  "toc": {
   "base_numbering": 1,
   "nav_menu": {},
   "number_sections": true,
   "sideBar": true,
   "skip_h1_title": false,
   "title_cell": "Table of Contents",
   "title_sidebar": "Contents",
   "toc_cell": false,
   "toc_position": {},
   "toc_section_display": true,
   "toc_window_display": false
  }
 },
 "nbformat": 4,
 "nbformat_minor": 5
}
