{
 "cells": [
  {
   "cell_type": "markdown",
   "id": "c4048105",
   "metadata": {},
   "source": [
    "### What is Python?\n",
    "\"\"\" Python is a popular programming language. It was created by Guido van Rossum, and released in 1991 \"\"\"\n",
    "It is used for:\n",
    "web development (server-side), software development, mathematics,  system scripting, Optimisation \n"
   ]
  },
  {
   "cell_type": "markdown",
   "id": "82852b4b",
   "metadata": {},
   "source": [
    "### What can Python do?\n",
    "\"\"\" Python can be used on a server to create web applications.\n",
    "    Python can be used alongside software to create workflows.\n",
    "    Python can connect to database systems. It can also read and modify files.\n",
    "    Python can be used to handle big data and perform complex mathematics.\n",
    "    Python can be used for rapid prototyping, or for production-ready software development \"\"\"\n"
   ]
  },
  {
   "cell_type": "markdown",
   "id": "2743428c",
   "metadata": {},
   "source": [
    "### Writing a first program in python"
   ]
  },
  {
   "cell_type": "code",
   "execution_count": 7,
   "id": "45a6ba3c",
   "metadata": {},
   "outputs": [
    {
     "name": "stdout",
     "output_type": "stream",
     "text": [
      "Hello World\n"
     ]
    }
   ],
   "source": [
    "# This is very easy compared with other programming languages like c, c++, Java\n",
    "\n",
    "print('Hello World')"
   ]
  },
  {
   "cell_type": "markdown",
   "id": "96badef7",
   "metadata": {},
   "source": [
    "### Python Indentation\n",
    "Indentation refers to the spaces at the beginning of a code line.\n",
    "\n",
    "Where in other programming languages the indentation in code is for readability only, the indentation in Python is very important.\n",
    "\n",
    "Python uses indentation to indicate a block of code.\n",
    " \n",
    "This is very important because if we don't assign proper  identation (spaces) then you will find errors in code\n"
   ]
  },
  {
   "cell_type": "markdown",
   "id": "2fbee872",
   "metadata": {},
   "source": [
    "You can see the below example:"
   ]
  },
  {
   "cell_type": "code",
   "execution_count": 23,
   "id": "5bff8768",
   "metadata": {},
   "outputs": [
    {
     "ename": "IndentationError",
     "evalue": "expected an indented block (2466724096.py, line 4)",
     "output_type": "error",
     "traceback": [
      "\u001b[0;36m  File \u001b[0;32m\"/var/folders/t_/ydk7zx_n01b7_lwp_59f7kbc0000gn/T/ipykernel_12075/2466724096.py\"\u001b[0;36m, line \u001b[0;32m4\u001b[0m\n\u001b[0;31m    print(\"Five is greater than two!\")\u001b[0m\n\u001b[0m    ^\u001b[0m\n\u001b[0;31mIndentationError\u001b[0m\u001b[0;31m:\u001b[0m expected an indented block\n"
     ]
    }
   ],
   "source": [
    "## Wrong \n",
    "\n",
    "if 50 > 20:\n",
    "print(\"Five is greater than two!\")"
   ]
  },
  {
   "cell_type": "code",
   "execution_count": 25,
   "id": "3e0d5144",
   "metadata": {},
   "outputs": [
    {
     "name": "stdout",
     "output_type": "stream",
     "text": [
      "Five is greater than two!\n"
     ]
    }
   ],
   "source": [
    "## Right\n",
    "\n",
    "if 50 > 20:\n",
    "         print(\"Five is greater than two!\")"
   ]
  },
  {
   "cell_type": "markdown",
   "id": "11951e74",
   "metadata": {},
   "source": [
    "### Python Comments"
   ]
  },
  {
   "cell_type": "markdown",
   "id": "ea5bd240",
   "metadata": {},
   "source": [
    "comments are used to represent your code line by line so, every developer can understand your code in detail"
   ]
  },
  {
   "cell_type": "markdown",
   "id": "405740f8",
   "metadata": {},
   "source": [
    "comments are of two types they are single line comments && multi line comments"
   ]
  },
  {
   "cell_type": "raw",
   "id": "64b28b10",
   "metadata": {},
   "source": [
    "# comments                                         ----single line comments\n",
    "\n",
    "'''comments'''                                     ----muti line comments\n",
    "\n",
    "\n",
    "\"\"\"comments\"\"\"                                     ----muti line comments\n"
   ]
  },
  {
   "cell_type": "markdown",
   "id": "c969123f",
   "metadata": {},
   "source": [
    "### Python Variables"
   ]
  },
  {
   "cell_type": "markdown",
   "id": "92301b19",
   "metadata": {},
   "source": [
    "Variable names are case-sensitive. A variable can be single character (a to z, A to Z)\n",
    "\n",
    "A variable can be one string  (volume, gender, etc)\n",
    "\n",
    "A variable can be one or many strings combination with out space between strings(camel case)(pascal case)\n",
    "(ageGroup, GenderMale)\n",
    "\n",
    "A variable can be one or many strings combination but seperate with underscore (snake case)\n",
    "(age_group, gender_male, etc)"
   ]
  },
  {
   "cell_type": "markdown",
   "id": "f19e38af",
   "metadata": {},
   "source": [
    "### Assigning variables"
   ]
  },
  {
   "cell_type": "code",
   "execution_count": 68,
   "id": "55509762",
   "metadata": {},
   "outputs": [
    {
     "name": "stdout",
     "output_type": "stream",
     "text": [
      "A\n",
      "B\n",
      "C\n",
      "['x', 'y', 'z']\n",
      "['x', 'y', 'z']\n",
      "['x', 'y', 'z']\n",
      "['x', 'y', 'z']\n"
     ]
    }
   ],
   "source": [
    "## Many Values to Multiple Variables\n",
    "x, y, z = \"A\", \"B\", \"C\"\n",
    "print(x)\n",
    "print(y)\n",
    "print(z)\n",
    "\n",
    "## one value to multiple variables\n",
    "\n",
    "x = y = z = \"apple\"\n",
    "\n",
    "## lists can be assigned to variables \n",
    "\n",
    "list = [\"x\",\"y\",\"z\"]\n",
    "a = list\n",
    "print(list)\n",
    "\n",
    "\n",
    "a = b = c = list\n",
    "print(a)\n",
    "print(b)\n",
    "print(c)\n"
   ]
  },
  {
   "cell_type": "markdown",
   "id": "9122247a",
   "metadata": {},
   "source": [
    "### output variables"
   ]
  },
  {
   "cell_type": "markdown",
   "id": "7698ec5d",
   "metadata": {},
   "source": [
    "As everone knows print() function is used to print output variables\n"
   ]
  },
  {
   "cell_type": "code",
   "execution_count": 16,
   "id": "78d98bf8",
   "metadata": {},
   "outputs": [
    {
     "name": "stdout",
     "output_type": "stream",
     "text": [
      "i love coding\n",
      " I love programming\n"
     ]
    }
   ],
   "source": [
    "print(\"i love coding\")\n",
    "\n",
    "x = \"programming\" \n",
    "print(\" I love \" + x)"
   ]
  },
  {
   "cell_type": "markdown",
   "id": "b8bc5cd4",
   "metadata": {},
   "source": [
    "### Global  and Local Varaibles\n",
    "\n",
    "Variables that are created outside of a function are known as global variables.\n",
    "\n",
    "Global variables can be used by everyone, both inside of functions and outside.\n",
    "\n"
   ]
  },
  {
   "cell_type": "code",
   "execution_count": 18,
   "id": "7d3e6ba6",
   "metadata": {},
   "outputs": [
    {
     "name": "stdout",
     "output_type": "stream",
     "text": [
      "My name is  Tulasi Ram\n"
     ]
    }
   ],
   "source": [
    "x = \"Tulasi Ram\"  ### Global Variable\n",
    "\n",
    "def myfunc():\n",
    "  print(\"My name is  \" + x)\n",
    "\n",
    "myfunc()"
   ]
  },
  {
   "cell_type": "code",
   "execution_count": 21,
   "id": "be05ba09",
   "metadata": {},
   "outputs": [
    {
     "name": "stdout",
     "output_type": "stream",
     "text": [
      "My name is Ponaganti\n",
      "My name is Tulasi Ram\n"
     ]
    }
   ],
   "source": [
    "x = \"Tulasi Ram\"   ## Global variable\n",
    "\n",
    "def myfunc():\n",
    "  x = \"Ponaganti\"   ## Local variable\n",
    "  print(\"My name is \" + x)\n",
    "\n",
    "myfunc()\n",
    "\n",
    "print(\"My name is \" + x)\n"
   ]
  },
  {
   "cell_type": "markdown",
   "id": "3a8d1ec8",
   "metadata": {},
   "source": [
    "### Data Types"
   ]
  },
  {
   "cell_type": "raw",
   "id": "43852e8a",
   "metadata": {},
   "source": [
    "Text Type:\tstr   eg: x =\"hello\"\n",
    "\n",
    "Numeric Types:\tint, float, complex  eg: x = 5, x=5.0, x=3j\n",
    "\n",
    "Sequence Types:\tlist, tuple, range    \n",
    "\n",
    "Mapping Type:\tdict\n",
    "\n",
    "Set Types:\tset, frozenset\n",
    "\n",
    "Boolean Type:\tbool\n",
    "\n",
    "Binary Types:\tbytes, bytearray, memoryview"
   ]
  },
  {
   "cell_type": "code",
   "execution_count": 37,
   "id": "10eb293a",
   "metadata": {},
   "outputs": [
    {
     "name": "stdout",
     "output_type": "stream",
     "text": [
      "<class 'int'>\n",
      "<class 'float'>\n",
      "<class 'complex'>\n",
      "<class 'list'>\n",
      "<class 'tuple'>\n",
      "<class 'dict'>\n",
      "<class 'set'>\n",
      "<class 'frozenset'>\n",
      "<class 'bool'>\n"
     ]
    }
   ],
   "source": [
    "x = 5\n",
    "print(type(x))\n",
    "\n",
    "x = 5.0\n",
    "print(type(x))\n",
    "\n",
    "x=3j\n",
    "print(type(x))\n",
    "\n",
    "list=[\"x\",\"y\"]\n",
    "print(type(list))\n",
    "\n",
    "list=('x','y')\n",
    "print(type(list))\n",
    "\n",
    "list={\"x\":\"a\",\"y\":\"b\"}\n",
    "print(type(list))\n",
    "\n",
    "list={\"a\",\"b\"}\n",
    "print(type(list))\n",
    "\n",
    "list=frozenset((\"x\",\"y\"))\n",
    "print(type(list))\n",
    "\n",
    "x = bool(50)\n",
    "print(type(x))\n"
   ]
  },
  {
   "cell_type": "markdown",
   "id": "c1eb9561",
   "metadata": {},
   "source": [
    "int,  float, complex are used for numeric data\n",
    "\n",
    "convert any data type into other data type and it is called type casting\n",
    "\n",
    "eg: x=50\n",
    "    a = float(x)\n",
    "    b = complex(x)\n"
   ]
  },
  {
   "cell_type": "markdown",
   "id": "43cbae63",
   "metadata": {},
   "source": [
    "### Python Strings "
   ]
  },
  {
   "cell_type": "markdown",
   "id": "701223fc",
   "metadata": {},
   "source": [
    "Python strings are sorrounded by double or single quotes all the time. There is also multiline strings which are represented between triple double quotes."
   ]
  },
  {
   "cell_type": "raw",
   "id": "e69e679e",
   "metadata": {},
   "source": [
    "Strings in python are like arrays. you can access any element from multiline string\n",
    "\n",
    "# Slicing\n",
    "\n",
    "x = \"welcome to the python world\"\n",
    "print(x[2:5])\n",
    "print(x[2:])\n",
    "print(x[:5])\n",
    "\n",
    "# Modifying strings\n",
    "\n",
    "we have some methods in python to modify complete string\n",
    "\n",
    "capitalize()\tConverts the first character to upper case\n",
    "casefold()\t    Converts string into lower case\n",
    "center()\t    Returns a centered string\n",
    "count()\t        Returns the number of times a specified value occurs in a string\n",
    "encode()\t    Returns an encoded version of the string\n",
    "endswith()\t    Returns true if the string ends with the specified value\n",
    "expandtabs()\tSets the tab size of the string\n",
    "find()\t        Searches the string for a specified value and returns the position of where it was found\n",
    "format()\t    Formats specified values in a string\n",
    "format_map()\tFormats specified values in a string\n",
    "index()\t        Searches the string for a specified value and returns the position of where it was found\n",
    "isalnum()     \tReturns True if all characters in the string are alphanumeric\n",
    "isalpha()   \tReturns True if all characters in the string are in the alphabet\n",
    "isdecimal()\t    Returns True if all characters in the string are decimals\n",
    "isdigit()\t    Returns True if all characters in the string are digits\n",
    "isidentifier()\tReturns True if the string is an identifier\n",
    "islower()\t    Returns True if all characters in the string are lower case\n",
    "isnumeric()\t    Returns True if all characters in the string are numeric\n",
    "isprintable()\tReturns True if all characters in the string are printable\n",
    "isspace()\t    Returns True if all characters in the string are whitespaces\n",
    "istitle()\t    Returns True if the string follows the rules of a title\n",
    "isupper()\t    Returns True if all characters in the string are upper case\n",
    "join()\t        Joins the elements of an iterable to the end of the string\n",
    "ljust()\t        Returns a left justified version of the string\n",
    "lower()      \tConverts a string into lower case\n",
    "lstrip()\t    Returns a left trim version of the string\n",
    "maketrans()\t    Returns a translation table to be used in translations\n",
    "partition()\t    Returns a tuple where the string is parted into three parts\n",
    "replace()\t    Returns a string where a specified value is replaced with a specified value\n",
    "rfind()\t        Searches the string for a specified value and returns the last position of where it was found\n",
    "rindex()\t    Searches the string for a specified value and returns the last position of where it was found\n",
    "rjust()\t        Returns a right justified version of the string\n",
    "rpartition()\tReturns a tuple where the string is parted into three parts\n",
    "rsplit()\t    Splits the string at the specified separator, and returns a list\n",
    "rstrip()\t    Returns a right trim version of the string\n",
    "split()\t        Splits the string at the specified separator, and returns a list\n",
    "splitlines()\tSplits the string at line breaks and returns a list\n",
    "startswith()\tReturns true if the string starts with the specified value\n",
    "strip()      \tReturns a trimmed version of the string\n",
    "swapcase()   \tSwaps cases, lower case becomes upper case and vice versa\n",
    "title()\t        Converts the first character of each word to upper case\n",
    "translate() \tReturns a translated string\n",
    "upper()\t        Converts a string into upper case\n",
    "zfill()\t        Fills the string with a specified number of 0 values at the beginning"
   ]
  },
  {
   "cell_type": "raw",
   "id": "59a038d5",
   "metadata": {},
   "source": [
    "Espace Characters \n",
    "\n",
    "character symbol \tResult\t\n",
    "\n",
    "\\'\tSingle Quote\t\n",
    "\\\\\tBackslash\t\n",
    "\\n\tNew Line\t\n",
    "\\r\tCarriage Return\t\n",
    "\\t\tTab\t\n",
    "\\b\tBackspace\t\n",
    "\\f\tForm Feed\t\n",
    "\\ooo\tOctal value\t\n",
    "\\xhh\tHex value"
   ]
  },
  {
   "cell_type": "markdown",
   "id": "21b8b92e",
   "metadata": {},
   "source": [
    "### Python Operators"
   ]
  },
  {
   "cell_type": "raw",
   "id": "fcafa5b4",
   "metadata": {},
   "source": [
    "Python divides the operators in the following groups:\n",
    "\n",
    "Arithmetic operators\n",
    "Assignment operators\n",
    "Comparison operators\n",
    "Logical operators\n",
    "Identity operators\n",
    "Membership operators\n",
    "Bitwise operators\n"
   ]
  },
  {
   "cell_type": "markdown",
   "id": "960d7b54",
   "metadata": {},
   "source": [
    "#### Arthematic operators"
   ]
  },
  {
   "cell_type": "raw",
   "id": "2de97660",
   "metadata": {},
   "source": [
    "Operator   Name      Example\n",
    "\n",
    "+        Addition    x + y\n",
    "-      Subtraction    x - y\n",
    "*     Multiplication   x * y\n",
    "/      Division        x / y\n",
    "%      Modulus         x % y\n",
    "**    Exponentiation   x ** y\n",
    "//   Floor division     x // y\n"
   ]
  },
  {
   "cell_type": "code",
   "execution_count": 70,
   "id": "cc183a35",
   "metadata": {},
   "outputs": [
    {
     "name": "stdout",
     "output_type": "stream",
     "text": [
      "100\n",
      "2400\n",
      "20\n",
      "1.5\n",
      "20\n",
      "133674945388437340678388459765760000000000000000000000000000000000000000\n",
      "1\n"
     ]
    }
   ],
   "source": [
    "def func(a,b):\n",
    "    print(a+b)\n",
    "    print(a*b)\n",
    "    print(a-b)\n",
    "    print(a/b)\n",
    "    print(a%b)\n",
    "    print(a**b)\n",
    "    print(a//b)\n",
    "func(60,40)\n",
    "    "
   ]
  },
  {
   "cell_type": "markdown",
   "id": "28a7b9f8",
   "metadata": {},
   "source": [
    "#### Assignment Operators"
   ]
  },
  {
   "cell_type": "raw",
   "id": "a22328fd",
   "metadata": {},
   "source": [
    "Operator   Example   Same As\n",
    "\n",
    "   =        x = 5     x = 5\n",
    "   +=       x += 3    x = x + 3\n",
    "   -=       x -= 3    x = x - 3\n",
    "   *=       x *= 3    x = x * 3\n",
    "   /=       x /= 3    x = x / 3\n",
    "   %=       x %= 3    x = x % 3\n",
    "  //=       x //= 3   x = x // 3\n",
    "  **=       x **= 3   x = x ** 3\n",
    "  &=        x &= 3    x = x & 3\n",
    "  |=        x |= 3    x = x | 3\n",
    "  ^=        x ^= 3    x = x ^ 3\n",
    "  >>=       x >>= 3   x = x >> 3\n",
    "  <<=       x <<= 3   x = x << 3"
   ]
  },
  {
   "cell_type": "code",
   "execution_count": 76,
   "id": "7f2bf21e",
   "metadata": {},
   "outputs": [
    {
     "name": "stdout",
     "output_type": "stream",
     "text": [
      "5.0\n"
     ]
    }
   ],
   "source": [
    "def func():\n",
    "    x = 5\n",
    "    x += 3\n",
    "    x -= 3\n",
    "    x *= 3\n",
    "    x /= 3\n",
    "    print(x)\n",
    "\n",
    "func()"
   ]
  },
  {
   "cell_type": "markdown",
   "id": "2e71da45",
   "metadata": {},
   "source": [
    "#### Comparison Operators"
   ]
  },
  {
   "cell_type": "raw",
   "id": "d90d166a",
   "metadata": {},
   "source": [
    "Operator\tName\t                    Example\t\n",
    "\n",
    "  ==\t    Equal\t                    x == y\t\n",
    "  !=\t    Not equal\t                x != y\t\n",
    "  >\t        Greater than\t            x > y\t\n",
    "  <\t        Less than\t                x < y\t\n",
    "  >=\t    Greater than or equal to\tx >= y\t\n",
    "  <=\t    Less than or equal to\t    x <= y"
   ]
  },
  {
   "cell_type": "code",
   "execution_count": 83,
   "id": "90efe97f",
   "metadata": {},
   "outputs": [
    {
     "name": "stdout",
     "output_type": "stream",
     "text": [
      "b is greater\n"
     ]
    }
   ],
   "source": [
    "def func(a, b):\n",
    "    if a > b:\n",
    "        print(\"a is greater\")\n",
    "    elif b > a:\n",
    "        print(\"b is greater\")\n",
    "    else:\n",
    "        print(\"not find\")\n",
    "\n",
    "func(50, 60)    "
   ]
  },
  {
   "cell_type": "code",
   "execution_count": 85,
   "id": "9183439c",
   "metadata": {},
   "outputs": [
    {
     "name": "stdout",
     "output_type": "stream",
     "text": [
      "False\n",
      "True\n",
      "False\n",
      "True\n",
      "False\n",
      "True\n"
     ]
    }
   ],
   "source": [
    "def func():\n",
    "    a=50\n",
    "    b=60\n",
    "    print(a==b)\n",
    "    print(a!=b)\n",
    "    print(a>b)\n",
    "    print(a<b)\n",
    "    print(a>=b)\n",
    "    print(a<=b)\n",
    "func()"
   ]
  },
  {
   "cell_type": "markdown",
   "id": "b24d2969",
   "metadata": {},
   "source": [
    "#### Logical Operators"
   ]
  },
  {
   "cell_type": "raw",
   "id": "7cc51967",
   "metadata": {},
   "source": [
    "Operator\tDescription\t                                            Syntax\n",
    "\n",
    "and\t       Logical AND: True if both the operands are true\t        x and y\n",
    "or\t       Logical OR: True if either of the operands is true    \tx or y\n",
    "not\t       Logical NOT: True if the operand is false \t            not x"
   ]
  },
  {
   "cell_type": "code",
   "execution_count": 90,
   "id": "479c2938",
   "metadata": {},
   "outputs": [
    {
     "name": "stdout",
     "output_type": "stream",
     "text": [
      "False\n",
      "True\n",
      "True\n"
     ]
    }
   ],
   "source": [
    "def func():\n",
    "    a = True\n",
    "    b = False\n",
    "    \n",
    "    print(a and b)\n",
    "    print(a or b)\n",
    "    print(not b)\n",
    "\n",
    "func()"
   ]
  },
  {
   "cell_type": "markdown",
   "id": "e365f6af",
   "metadata": {},
   "source": [
    "#### Bitwise Operators"
   ]
  },
  {
   "cell_type": "raw",
   "id": "429f8682",
   "metadata": {},
   "source": [
    "Operator\tDescription\t              Syntax\n",
    "\n",
    "&\t        Bitwise AND\t               x & y\n",
    "|\t        Bitwise OR\t               x | y\n",
    "~\t        Bitwise NOT\t               ~x\n",
    "^\t        Bitwise XOR\t               x ^ y\n",
    ">>\t        Bitwise right shift     \tx>>\n",
    "<<\t        Bitwise left shift\t        x<<"
   ]
  },
  {
   "cell_type": "code",
   "execution_count": 95,
   "id": "8a222987",
   "metadata": {},
   "outputs": [
    {
     "name": "stdout",
     "output_type": "stream",
     "text": [
      "0\n",
      "30\n",
      "-21\n",
      "30\n",
      "0\n",
      "20480\n"
     ]
    }
   ],
   "source": [
    "def func():\n",
    "    x = 20\n",
    "    y = 10\n",
    "    \n",
    "    print(x & y)\n",
    "    print(x | y)\n",
    "    print(~x)\n",
    "    print(x ^ y)\n",
    "    print(x >> y)\n",
    "    print(x << y)\n",
    "\n",
    "func()"
   ]
  },
  {
   "cell_type": "code",
   "execution_count": null,
   "id": "0521105a",
   "metadata": {},
   "outputs": [],
   "source": []
  }
 ],
 "metadata": {
  "hide_input": false,
  "kernelspec": {
   "display_name": "Python 3 (ipykernel)",
   "language": "python",
   "name": "python3"
  },
  "language_info": {
   "codemirror_mode": {
    "name": "ipython",
    "version": 3
   },
   "file_extension": ".py",
   "mimetype": "text/x-python",
   "name": "python",
   "nbconvert_exporter": "python",
   "pygments_lexer": "ipython3",
   "version": "3.9.7"
  },
  "toc": {
   "base_numbering": 1,
   "nav_menu": {},
   "number_sections": true,
   "sideBar": true,
   "skip_h1_title": false,
   "title_cell": "Table of Contents",
   "title_sidebar": "Contents",
   "toc_cell": false,
   "toc_position": {},
   "toc_section_display": true,
   "toc_window_display": false
  }
 },
 "nbformat": 4,
 "nbformat_minor": 5
}
